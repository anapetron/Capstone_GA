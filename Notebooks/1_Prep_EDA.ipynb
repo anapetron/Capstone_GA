{
 "cells": [
  {
   "cell_type": "markdown",
   "metadata": {},
   "source": [
    "#### Problem Statment:\n",
    "    - Classify 2 different art periods using convolutional neural networks. The art periods I have choosen are impressionism and romanticism.\n",
    "\n",
    "#### Overview:\n",
    "    - Looking at the metadata of the images, I will pick two periods that are similar yet different. I choose impressionism, and romanticism for the following reasons:\n",
    "        - The classes are fairly balanced.\n",
    "        - Both the Romanticism and Impressionist styles were around the same time and the same place.\n",
    "        - Both periods have similar but different influences.\n",
    "        \n",
    "#### Proposed Methods & Model:\n",
    "    - I will use convolutional neural network in a seperate jupyter notebook. The image preprocessing and data agumentation is done by ImageDataGenerator.\n",
    "    \n",
    "#### Data:\n",
    "    - The link to the dataset from kaggle:\n",
    "    https://www.kaggle.com/c/painter-by-numbers/data\n",
    "    \n",
    "    - I uploaded the metadata to see what are the periods and artist, which is how I was able to identify which periods I will be looking at. Next I will start to separate the images and metadata for my project into their own folders.\n",
    "    "
   ]
  },
  {
   "cell_type": "code",
   "execution_count": 1,
   "metadata": {},
   "outputs": [],
   "source": [
    "#capstone eda from csv file"
   ]
  },
  {
   "cell_type": "code",
   "execution_count": 1,
   "metadata": {},
   "outputs": [],
   "source": [
    "import pandas as pd\n",
    "import os\n",
    "\n",
    "pd.set_option('display.max_rows', None)\n",
    "pd.set_option('display.max_columns', None)\n",
    "#pd.set_option('display.width', 1000)"
   ]
  },
  {
   "cell_type": "code",
   "execution_count": 2,
   "metadata": {},
   "outputs": [],
   "source": [
    "# read in the meta data\n",
    "df_all = pd.read_csv('./all_data_info.csv')"
   ]
  },
  {
   "cell_type": "markdown",
   "metadata": {},
   "source": [
    "- Commented out code that produced a large output."
   ]
  },
  {
   "cell_type": "code",
   "execution_count": 3,
   "metadata": {},
   "outputs": [],
   "source": [
    "# Looking at all the artist and the amount of works for each artist.\n",
    "\n",
    "#df_all['artist'].value_counts()"
   ]
  },
  {
   "cell_type": "code",
   "execution_count": 4,
   "metadata": {
    "scrolled": true
   },
   "outputs": [],
   "source": [
    "# Looking at all the styles and the amount of styles for each category\n",
    "# Here I chose my top 3 which are Impressionism, Realism, Romanticism.\n",
    "# They have similaries and differences, and not a large class imbalance.\n",
    "\n",
    "#df_all['style'].value_counts()"
   ]
  },
  {
   "cell_type": "code",
   "execution_count": 5,
   "metadata": {},
   "outputs": [
    {
     "data": {
      "text/html": [
       "<div>\n",
       "<style scoped>\n",
       "    .dataframe tbody tr th:only-of-type {\n",
       "        vertical-align: middle;\n",
       "    }\n",
       "\n",
       "    .dataframe tbody tr th {\n",
       "        vertical-align: top;\n",
       "    }\n",
       "\n",
       "    .dataframe thead th {\n",
       "        text-align: right;\n",
       "    }\n",
       "</style>\n",
       "<table border=\"1\" class=\"dataframe\">\n",
       "  <thead>\n",
       "    <tr style=\"text-align: right;\">\n",
       "      <th></th>\n",
       "      <th>artist</th>\n",
       "      <th>date</th>\n",
       "      <th>genre</th>\n",
       "      <th>pixelsx</th>\n",
       "      <th>pixelsy</th>\n",
       "      <th>size_bytes</th>\n",
       "      <th>source</th>\n",
       "      <th>style</th>\n",
       "      <th>title</th>\n",
       "      <th>artist_group</th>\n",
       "      <th>in_train</th>\n",
       "      <th>new_filename</th>\n",
       "    </tr>\n",
       "  </thead>\n",
       "  <tbody>\n",
       "    <tr>\n",
       "      <th>0</th>\n",
       "      <td>Barnett Newman</td>\n",
       "      <td>1955.0</td>\n",
       "      <td>abstract</td>\n",
       "      <td>15530.0</td>\n",
       "      <td>6911.0</td>\n",
       "      <td>9201912.0</td>\n",
       "      <td>wikiart</td>\n",
       "      <td>Color Field Painting</td>\n",
       "      <td>Uriel</td>\n",
       "      <td>train_only</td>\n",
       "      <td>True</td>\n",
       "      <td>102257.jpg</td>\n",
       "    </tr>\n",
       "    <tr>\n",
       "      <th>1</th>\n",
       "      <td>Barnett Newman</td>\n",
       "      <td>1950.0</td>\n",
       "      <td>abstract</td>\n",
       "      <td>14559.0</td>\n",
       "      <td>6866.0</td>\n",
       "      <td>8867532.0</td>\n",
       "      <td>wikiart</td>\n",
       "      <td>Color Field Painting</td>\n",
       "      <td>Vir Heroicus Sublimis</td>\n",
       "      <td>train_only</td>\n",
       "      <td>True</td>\n",
       "      <td>75232.jpg</td>\n",
       "    </tr>\n",
       "    <tr>\n",
       "      <th>2</th>\n",
       "      <td>kiri nichol</td>\n",
       "      <td>2013.0</td>\n",
       "      <td>NaN</td>\n",
       "      <td>9003.0</td>\n",
       "      <td>9004.0</td>\n",
       "      <td>1756681.0</td>\n",
       "      <td>NaN</td>\n",
       "      <td>Neoplasticism</td>\n",
       "      <td>NaN</td>\n",
       "      <td>test_only</td>\n",
       "      <td>False</td>\n",
       "      <td>32145.jpg</td>\n",
       "    </tr>\n",
       "    <tr>\n",
       "      <th>3</th>\n",
       "      <td>kiri nichol</td>\n",
       "      <td>2013.0</td>\n",
       "      <td>NaN</td>\n",
       "      <td>9003.0</td>\n",
       "      <td>9004.0</td>\n",
       "      <td>1942046.0</td>\n",
       "      <td>NaN</td>\n",
       "      <td>Neoplasticism</td>\n",
       "      <td>NaN</td>\n",
       "      <td>test_only</td>\n",
       "      <td>False</td>\n",
       "      <td>20304.jpg</td>\n",
       "    </tr>\n",
       "    <tr>\n",
       "      <th>4</th>\n",
       "      <td>kiri nichol</td>\n",
       "      <td>2013.0</td>\n",
       "      <td>NaN</td>\n",
       "      <td>9003.0</td>\n",
       "      <td>9004.0</td>\n",
       "      <td>1526212.0</td>\n",
       "      <td>NaN</td>\n",
       "      <td>Neoplasticism</td>\n",
       "      <td>NaN</td>\n",
       "      <td>test_only</td>\n",
       "      <td>False</td>\n",
       "      <td>836.jpg</td>\n",
       "    </tr>\n",
       "  </tbody>\n",
       "</table>\n",
       "</div>"
      ],
      "text/plain": [
       "           artist    date     genre  pixelsx  pixelsy  size_bytes   source  \\\n",
       "0  Barnett Newman  1955.0  abstract  15530.0   6911.0   9201912.0  wikiart   \n",
       "1  Barnett Newman  1950.0  abstract  14559.0   6866.0   8867532.0  wikiart   \n",
       "2     kiri nichol  2013.0       NaN   9003.0   9004.0   1756681.0      NaN   \n",
       "3     kiri nichol  2013.0       NaN   9003.0   9004.0   1942046.0      NaN   \n",
       "4     kiri nichol  2013.0       NaN   9003.0   9004.0   1526212.0      NaN   \n",
       "\n",
       "                  style                  title artist_group  in_train  \\\n",
       "0  Color Field Painting                  Uriel   train_only      True   \n",
       "1  Color Field Painting  Vir Heroicus Sublimis   train_only      True   \n",
       "2         Neoplasticism                    NaN    test_only     False   \n",
       "3         Neoplasticism                    NaN    test_only     False   \n",
       "4         Neoplasticism                    NaN    test_only     False   \n",
       "\n",
       "  new_filename  \n",
       "0   102257.jpg  \n",
       "1    75232.jpg  \n",
       "2    32145.jpg  \n",
       "3    20304.jpg  \n",
       "4      836.jpg  "
      ]
     },
     "execution_count": 5,
     "metadata": {},
     "output_type": "execute_result"
    }
   ],
   "source": [
    "df_all.head()"
   ]
  },
  {
   "cell_type": "code",
   "execution_count": 6,
   "metadata": {},
   "outputs": [],
   "source": [
    "# creating a new dataframe with style and new_filename next to each other\n",
    "df_all_1 = df_all[['style', 'new_filename', 'title', 'source', 'size_bytes',\n",
    "                  'pixelsy', 'pixelsx', 'genre', 'date', 'artist']]"
   ]
  },
  {
   "cell_type": "code",
   "execution_count": 11,
   "metadata": {},
   "outputs": [
    {
     "data": {
      "text/html": [
       "<div>\n",
       "<style scoped>\n",
       "    .dataframe tbody tr th:only-of-type {\n",
       "        vertical-align: middle;\n",
       "    }\n",
       "\n",
       "    .dataframe tbody tr th {\n",
       "        vertical-align: top;\n",
       "    }\n",
       "\n",
       "    .dataframe thead th {\n",
       "        text-align: right;\n",
       "    }\n",
       "</style>\n",
       "<table border=\"1\" class=\"dataframe\">\n",
       "  <thead>\n",
       "    <tr style=\"text-align: right;\">\n",
       "      <th></th>\n",
       "      <th>style</th>\n",
       "      <th>new_filename</th>\n",
       "      <th>title</th>\n",
       "      <th>source</th>\n",
       "      <th>size_bytes</th>\n",
       "      <th>pixelsy</th>\n",
       "      <th>pixelsx</th>\n",
       "      <th>genre</th>\n",
       "      <th>date</th>\n",
       "      <th>artist</th>\n",
       "    </tr>\n",
       "  </thead>\n",
       "  <tbody>\n",
       "    <tr>\n",
       "      <th>9</th>\n",
       "      <td>Romanticism</td>\n",
       "      <td>84512.jpg</td>\n",
       "      <td>Procession in Naples</td>\n",
       "      <td>wikiart</td>\n",
       "      <td>7896792.0</td>\n",
       "      <td>7352.0</td>\n",
       "      <td>6238.0</td>\n",
       "      <td>cityscape</td>\n",
       "      <td>NaN</td>\n",
       "      <td>Franz Richard Unterberger</td>\n",
       "    </tr>\n",
       "    <tr>\n",
       "      <th>14</th>\n",
       "      <td>Romanticism</td>\n",
       "      <td>99442.jpg</td>\n",
       "      <td>Storm at sea</td>\n",
       "      <td>wikiart</td>\n",
       "      <td>3189597.0</td>\n",
       "      <td>5811.0</td>\n",
       "      <td>7444.0</td>\n",
       "      <td>marina</td>\n",
       "      <td>1873</td>\n",
       "      <td>Ivan Aivazovsky</td>\n",
       "    </tr>\n",
       "  </tbody>\n",
       "</table>\n",
       "</div>"
      ],
      "text/plain": [
       "          style new_filename                  title   source  size_bytes  \\\n",
       "9   Romanticism    84512.jpg  Procession in Naples   wikiart   7896792.0   \n",
       "14  Romanticism    99442.jpg           Storm at sea  wikiart   3189597.0   \n",
       "\n",
       "    pixelsy  pixelsx      genre  date                     artist  \n",
       "9    7352.0   6238.0  cityscape   NaN  Franz Richard Unterberger  \n",
       "14   5811.0   7444.0     marina  1873            Ivan Aivazovsky  "
      ]
     },
     "execution_count": 11,
     "metadata": {},
     "output_type": "execute_result"
    }
   ],
   "source": [
    "df_all_1.head(2)"
   ]
  },
  {
   "cell_type": "markdown",
   "metadata": {},
   "source": [
    "- Creating a new DF with the styles that I am exploring"
   ]
  },
  {
   "cell_type": "code",
   "execution_count": 12,
   "metadata": {},
   "outputs": [],
   "source": [
    "#df_all_1.drop\n",
    "# creating new variable excludes the styles I am interested in and then dorpping it.\n",
    "indexNames = df_all_1[(df_all_1['style'] != 'Romanticism') & (df_all_1['style'] != 'Impressionism')].index\n",
    "\n",
    "# Delete these row indexes from dataFrame\n",
    "df_all_1.drop(indexNames , inplace=True)"
   ]
  },
  {
   "cell_type": "code",
   "execution_count": 16,
   "metadata": {
    "scrolled": true
   },
   "outputs": [
    {
     "name": "stdout",
     "output_type": "stream",
     "text": [
      "<class 'pandas.core.frame.DataFrame'>\n",
      "Int64Index: 19928 entries, 9 to 103232\n",
      "Data columns (total 10 columns):\n",
      "style           19928 non-null object\n",
      "new_filename    19928 non-null object\n",
      "title           19928 non-null object\n",
      "source          19928 non-null object\n",
      "size_bytes      19928 non-null float64\n",
      "pixelsy         19928 non-null float64\n",
      "pixelsx         19928 non-null float64\n",
      "genre           19882 non-null object\n",
      "date            14819 non-null object\n",
      "artist          19928 non-null object\n",
      "dtypes: float64(3), object(7)\n",
      "memory usage: 1.7+ MB\n"
     ]
    }
   ],
   "source": [
    "df_all_1.info()"
   ]
  },
  {
   "cell_type": "code",
   "execution_count": 10,
   "metadata": {},
   "outputs": [
    {
     "data": {
      "text/html": [
       "<div>\n",
       "<style scoped>\n",
       "    .dataframe tbody tr th:only-of-type {\n",
       "        vertical-align: middle;\n",
       "    }\n",
       "\n",
       "    .dataframe tbody tr th {\n",
       "        vertical-align: top;\n",
       "    }\n",
       "\n",
       "    .dataframe thead th {\n",
       "        text-align: right;\n",
       "    }\n",
       "</style>\n",
       "<table border=\"1\" class=\"dataframe\">\n",
       "  <thead>\n",
       "    <tr style=\"text-align: right;\">\n",
       "      <th></th>\n",
       "      <th>style</th>\n",
       "      <th>new_filename</th>\n",
       "      <th>title</th>\n",
       "      <th>source</th>\n",
       "      <th>size_bytes</th>\n",
       "      <th>pixelsy</th>\n",
       "      <th>pixelsx</th>\n",
       "      <th>genre</th>\n",
       "      <th>date</th>\n",
       "      <th>artist</th>\n",
       "    </tr>\n",
       "  </thead>\n",
       "  <tbody>\n",
       "    <tr>\n",
       "      <th>9</th>\n",
       "      <td>Romanticism</td>\n",
       "      <td>84512.jpg</td>\n",
       "      <td>Procession in Naples</td>\n",
       "      <td>wikiart</td>\n",
       "      <td>7896792.0</td>\n",
       "      <td>7352.0</td>\n",
       "      <td>6238.0</td>\n",
       "      <td>cityscape</td>\n",
       "      <td>NaN</td>\n",
       "      <td>Franz Richard Unterberger</td>\n",
       "    </tr>\n",
       "    <tr>\n",
       "      <th>14</th>\n",
       "      <td>Romanticism</td>\n",
       "      <td>99442.jpg</td>\n",
       "      <td>Storm at sea</td>\n",
       "      <td>wikiart</td>\n",
       "      <td>3189597.0</td>\n",
       "      <td>5811.0</td>\n",
       "      <td>7444.0</td>\n",
       "      <td>marina</td>\n",
       "      <td>1873</td>\n",
       "      <td>Ivan Aivazovsky</td>\n",
       "    </tr>\n",
       "  </tbody>\n",
       "</table>\n",
       "</div>"
      ],
      "text/plain": [
       "          style new_filename                  title   source  size_bytes  \\\n",
       "9   Romanticism    84512.jpg  Procession in Naples   wikiart   7896792.0   \n",
       "14  Romanticism    99442.jpg           Storm at sea  wikiart   3189597.0   \n",
       "\n",
       "    pixelsy  pixelsx      genre  date                     artist  \n",
       "9    7352.0   6238.0  cityscape   NaN  Franz Richard Unterberger  \n",
       "14   5811.0   7444.0     marina  1873            Ivan Aivazovsky  "
      ]
     },
     "execution_count": 10,
     "metadata": {},
     "output_type": "execute_result"
    }
   ],
   "source": [
    "df_all_1.head(2)"
   ]
  },
  {
   "cell_type": "code",
   "execution_count": 11,
   "metadata": {},
   "outputs": [
    {
     "data": {
      "text/plain": [
       "Impressionism    10643\n",
       "Romanticism       9285\n",
       "Name: style, dtype: int64"
      ]
     },
     "execution_count": 11,
     "metadata": {},
     "output_type": "execute_result"
    }
   ],
   "source": [
    "# Checking to make sure the styles I want are created\n",
    "df_all_1['style'].value_counts()"
   ]
  },
  {
   "cell_type": "code",
   "execution_count": 40,
   "metadata": {
    "scrolled": true
   },
   "outputs": [
    {
     "data": {
      "image/png": "[encoded data removed]",
      "text/plain": [
       "<Figure size 864x576 with 1 Axes>"
      ]
     },
     "metadata": {
      "needs_background": "light"
     },
     "output_type": "display_data"
    }
   ],
   "source": [
    "values_style = pd.value_counts(df_all_1['style'].values, sort=True)\n",
    "values_style.plot(kind='barh',\n",
    "                  title =\"Amount of Images Per Style\",\n",
    "                  fontsize = 20,\n",
    "                  cmap = 'Dark2',\n",
    "                  figsize=(12,8));\n",
    "#values_style.plot.barh();"
   ]
  },
  {
   "cell_type": "code",
   "execution_count": 12,
   "metadata": {},
   "outputs": [],
   "source": [
    "# saving the dataframe \n",
    "#df_all_1.to_csv('./updated_all_data.csv', index=False) "
   ]
  },
  {
   "cell_type": "markdown",
   "metadata": {},
   "source": [
    "- the code above was already ran prior."
   ]
  },
  {
   "cell_type": "code",
   "execution_count": 23,
   "metadata": {},
   "outputs": [],
   "source": [
    "# df_all_1['artist'].value_counts()"
   ]
  },
  {
   "cell_type": "markdown",
   "metadata": {},
   "source": [
    "created masks to search for different images that are well known in each style, or by artist that are well known.\n",
    "- I wanted to locate the most famous paintings and compare if they are going to be in the predited class. If they are if the predictions were correct, and to create graphs of the RGB values of each."
   ]
  },
  {
   "cell_type": "code",
   "execution_count": 47,
   "metadata": {},
   "outputs": [],
   "source": [
    "mask2 = ((df_all_1['style'] == 'Impressionism') & (df_all_1['artist'] == 'Claude Monet') & (df_all_1['title'].str.contains(\"Camille\")))"
   ]
  },
  {
   "cell_type": "code",
   "execution_count": 48,
   "metadata": {},
   "outputs": [
    {
     "data": {
      "text/html": [
       "<div>\n",
       "<style scoped>\n",
       "    .dataframe tbody tr th:only-of-type {\n",
       "        vertical-align: middle;\n",
       "    }\n",
       "\n",
       "    .dataframe tbody tr th {\n",
       "        vertical-align: top;\n",
       "    }\n",
       "\n",
       "    .dataframe thead th {\n",
       "        text-align: right;\n",
       "    }\n",
       "</style>\n",
       "<table border=\"1\" class=\"dataframe\">\n",
       "  <thead>\n",
       "    <tr style=\"text-align: right;\">\n",
       "      <th></th>\n",
       "      <th>style</th>\n",
       "      <th>new_filename</th>\n",
       "      <th>title</th>\n",
       "      <th>source</th>\n",
       "      <th>size_bytes</th>\n",
       "      <th>pixelsy</th>\n",
       "      <th>pixelsx</th>\n",
       "      <th>genre</th>\n",
       "      <th>date</th>\n",
       "      <th>artist</th>\n",
       "    </tr>\n",
       "  </thead>\n",
       "  <tbody>\n",
       "    <tr>\n",
       "      <th>1580</th>\n",
       "      <td>Impressionism</td>\n",
       "      <td>61167.jpg</td>\n",
       "      <td>Camille Monet and a Child in the Artist’s Gard...</td>\n",
       "      <td>wikiart</td>\n",
       "      <td>4166741.0</td>\n",
       "      <td>2586.0</td>\n",
       "      <td>3060.0</td>\n",
       "      <td>portrait</td>\n",
       "      <td>1875</td>\n",
       "      <td>Claude Monet</td>\n",
       "    </tr>\n",
       "    <tr>\n",
       "      <th>2529</th>\n",
       "      <td>Impressionism</td>\n",
       "      <td>35377.jpg</td>\n",
       "      <td>Camille Monet in the Garden at the House in Ar...</td>\n",
       "      <td>wikiart</td>\n",
       "      <td>2569609.0</td>\n",
       "      <td>3000.0</td>\n",
       "      <td>2184.0</td>\n",
       "      <td>landscape</td>\n",
       "      <td>1876</td>\n",
       "      <td>Claude Monet</td>\n",
       "    </tr>\n",
       "    <tr>\n",
       "      <th>9751</th>\n",
       "      <td>Impressionism</td>\n",
       "      <td>54749.jpg</td>\n",
       "      <td>Camille Monet in the Garden</td>\n",
       "      <td>wikiart</td>\n",
       "      <td>1042301.0</td>\n",
       "      <td>1485.0</td>\n",
       "      <td>2000.0</td>\n",
       "      <td>portrait</td>\n",
       "      <td>1873</td>\n",
       "      <td>Claude Monet</td>\n",
       "    </tr>\n",
       "    <tr>\n",
       "      <th>9769</th>\n",
       "      <td>Impressionism</td>\n",
       "      <td>37640.jpg</td>\n",
       "      <td>Camille and Jean Monet in the Garden at Argent...</td>\n",
       "      <td>wikiart</td>\n",
       "      <td>368358.0</td>\n",
       "      <td>1997.0</td>\n",
       "      <td>1486.0</td>\n",
       "      <td>genre painting</td>\n",
       "      <td>1873</td>\n",
       "      <td>Claude Monet</td>\n",
       "    </tr>\n",
       "    <tr>\n",
       "      <th>11182</th>\n",
       "      <td>Impressionism</td>\n",
       "      <td>88147.jpg</td>\n",
       "      <td>Camille on the Beach at Trouville</td>\n",
       "      <td>wikiart</td>\n",
       "      <td>839352.0</td>\n",
       "      <td>1478.0</td>\n",
       "      <td>1800.0</td>\n",
       "      <td>portrait</td>\n",
       "      <td>1870</td>\n",
       "      <td>Claude Monet</td>\n",
       "    </tr>\n",
       "    <tr>\n",
       "      <th>12576</th>\n",
       "      <td>Impressionism</td>\n",
       "      <td>31858.jpg</td>\n",
       "      <td>Camille Monet at the Window, Argentuile</td>\n",
       "      <td>wikiart</td>\n",
       "      <td>855626.0</td>\n",
       "      <td>1701.0</td>\n",
       "      <td>1392.0</td>\n",
       "      <td>portrait</td>\n",
       "      <td>1873</td>\n",
       "      <td>Claude Monet</td>\n",
       "    </tr>\n",
       "    <tr>\n",
       "      <th>15673</th>\n",
       "      <td>Impressionism</td>\n",
       "      <td>24910.jpg</td>\n",
       "      <td>Camille with Green Parasol</td>\n",
       "      <td>wikiart</td>\n",
       "      <td>656337.0</td>\n",
       "      <td>1600.0</td>\n",
       "      <td>1159.0</td>\n",
       "      <td>portrait</td>\n",
       "      <td>1876</td>\n",
       "      <td>Claude Monet</td>\n",
       "    </tr>\n",
       "  </tbody>\n",
       "</table>\n",
       "</div>"
      ],
      "text/plain": [
       "               style new_filename  \\\n",
       "1580   Impressionism    61167.jpg   \n",
       "2529   Impressionism    35377.jpg   \n",
       "9751   Impressionism    54749.jpg   \n",
       "9769   Impressionism    37640.jpg   \n",
       "11182  Impressionism    88147.jpg   \n",
       "12576  Impressionism    31858.jpg   \n",
       "15673  Impressionism    24910.jpg   \n",
       "\n",
       "                                                   title   source  size_bytes  \\\n",
       "1580   Camille Monet and a Child in the Artist’s Gard...  wikiart   4166741.0   \n",
       "2529   Camille Monet in the Garden at the House in Ar...  wikiart   2569609.0   \n",
       "9751                         Camille Monet in the Garden  wikiart   1042301.0   \n",
       "9769   Camille and Jean Monet in the Garden at Argent...  wikiart    368358.0   \n",
       "11182                  Camille on the Beach at Trouville  wikiart    839352.0   \n",
       "12576            Camille Monet at the Window, Argentuile  wikiart    855626.0   \n",
       "15673                         Camille with Green Parasol  wikiart    656337.0   \n",
       "\n",
       "       pixelsy  pixelsx           genre  date        artist  \n",
       "1580    2586.0   3060.0        portrait  1875  Claude Monet  \n",
       "2529    3000.0   2184.0       landscape  1876  Claude Monet  \n",
       "9751    1485.0   2000.0        portrait  1873  Claude Monet  \n",
       "9769    1997.0   1486.0  genre painting  1873  Claude Monet  \n",
       "11182   1478.0   1800.0        portrait  1870  Claude Monet  \n",
       "12576   1701.0   1392.0        portrait  1873  Claude Monet  \n",
       "15673   1600.0   1159.0        portrait  1876  Claude Monet  "
      ]
     },
     "execution_count": 48,
     "metadata": {},
     "output_type": "execute_result"
    }
   ],
   "source": [
    "df_all_1[mask2]"
   ]
  },
  {
   "cell_type": "code",
   "execution_count": 66,
   "metadata": {},
   "outputs": [],
   "source": [
    "mask3 = ((df_all_1['style'] == 'Romanticism') & (df_all_1['artist'].str.contains(\"Delacroix\")) & (df_all_1['title'].str.contains(\"Death\")))"
   ]
  },
  {
   "cell_type": "code",
   "execution_count": 67,
   "metadata": {},
   "outputs": [
    {
     "data": {
      "text/html": [
       "<div>\n",
       "<style scoped>\n",
       "    .dataframe tbody tr th:only-of-type {\n",
       "        vertical-align: middle;\n",
       "    }\n",
       "\n",
       "    .dataframe tbody tr th {\n",
       "        vertical-align: top;\n",
       "    }\n",
       "\n",
       "    .dataframe thead th {\n",
       "        text-align: right;\n",
       "    }\n",
       "</style>\n",
       "<table border=\"1\" class=\"dataframe\">\n",
       "  <thead>\n",
       "    <tr style=\"text-align: right;\">\n",
       "      <th></th>\n",
       "      <th>style</th>\n",
       "      <th>new_filename</th>\n",
       "      <th>title</th>\n",
       "      <th>source</th>\n",
       "      <th>size_bytes</th>\n",
       "      <th>pixelsy</th>\n",
       "      <th>pixelsx</th>\n",
       "      <th>genre</th>\n",
       "      <th>date</th>\n",
       "      <th>artist</th>\n",
       "    </tr>\n",
       "  </thead>\n",
       "  <tbody>\n",
       "    <tr>\n",
       "      <th>13182</th>\n",
       "      <td>Romanticism</td>\n",
       "      <td>90455.jpg</td>\n",
       "      <td>Death of Sardanapalus</td>\n",
       "      <td>wikiart</td>\n",
       "      <td>2698378.0</td>\n",
       "      <td>1333.0</td>\n",
       "      <td>1679.0</td>\n",
       "      <td>mythological painting</td>\n",
       "      <td>1827</td>\n",
       "      <td>Eugene Delacroix</td>\n",
       "    </tr>\n",
       "    <tr>\n",
       "      <th>30142</th>\n",
       "      <td>Romanticism</td>\n",
       "      <td>56858.jpg</td>\n",
       "      <td>The Death of Ophelia</td>\n",
       "      <td>wikiart</td>\n",
       "      <td>189174.0</td>\n",
       "      <td>900.0</td>\n",
       "      <td>1096.0</td>\n",
       "      <td>literary painting</td>\n",
       "      <td>1838</td>\n",
       "      <td>Eugene Delacroix</td>\n",
       "    </tr>\n",
       "    <tr>\n",
       "      <th>40876</th>\n",
       "      <td>Romanticism</td>\n",
       "      <td>43181.jpg</td>\n",
       "      <td>Sketch for The Death of Sardanapalus</td>\n",
       "      <td>wikiart</td>\n",
       "      <td>108225.0</td>\n",
       "      <td>770.0</td>\n",
       "      <td>1038.0</td>\n",
       "      <td>sketch and study</td>\n",
       "      <td>1827</td>\n",
       "      <td>Eugene Delacroix</td>\n",
       "    </tr>\n",
       "    <tr>\n",
       "      <th>43147</th>\n",
       "      <td>Romanticism</td>\n",
       "      <td>39439.jpg</td>\n",
       "      <td>The Death of Ophelia</td>\n",
       "      <td>wikiart</td>\n",
       "      <td>181216.0</td>\n",
       "      <td>754.0</td>\n",
       "      <td>1031.0</td>\n",
       "      <td>literary painting</td>\n",
       "      <td>1843</td>\n",
       "      <td>Eugene Delacroix</td>\n",
       "    </tr>\n",
       "  </tbody>\n",
       "</table>\n",
       "</div>"
      ],
      "text/plain": [
       "             style new_filename                                 title  \\\n",
       "13182  Romanticism    90455.jpg                 Death of Sardanapalus   \n",
       "30142  Romanticism    56858.jpg                  The Death of Ophelia   \n",
       "40876  Romanticism    43181.jpg  Sketch for The Death of Sardanapalus   \n",
       "43147  Romanticism    39439.jpg                  The Death of Ophelia   \n",
       "\n",
       "        source  size_bytes  pixelsy  pixelsx                  genre  date  \\\n",
       "13182  wikiart   2698378.0   1333.0   1679.0  mythological painting  1827   \n",
       "30142  wikiart    189174.0    900.0   1096.0      literary painting  1838   \n",
       "40876  wikiart    108225.0    770.0   1038.0       sketch and study  1827   \n",
       "43147  wikiart    181216.0    754.0   1031.0      literary painting  1843   \n",
       "\n",
       "                 artist  \n",
       "13182  Eugene Delacroix  \n",
       "30142  Eugene Delacroix  \n",
       "40876  Eugene Delacroix  \n",
       "43147  Eugene Delacroix  "
      ]
     },
     "execution_count": 67,
     "metadata": {},
     "output_type": "execute_result"
    }
   ],
   "source": [
    "df_all_1[mask3]"
   ]
  },
  {
   "cell_type": "code",
   "execution_count": 43,
   "metadata": {},
   "outputs": [],
   "source": [
    "mask1 = ((df_all_1['style'] == 'Impresionism') & (df_all_1['artist'] == 'Edgar Degas') & (df_all_1['new_filename']))"
   ]
  },
  {
   "cell_type": "code",
   "execution_count": 42,
   "metadata": {},
   "outputs": [],
   "source": [
    "#df_all_1[mask1]"
   ]
  },
  {
   "cell_type": "code",
   "execution_count": 41,
   "metadata": {
    "scrolled": true
   },
   "outputs": [],
   "source": [
    "#df_all_1[['artist', 'title', 'new_filename', 'style']]"
   ]
  },
  {
   "cell_type": "markdown",
   "metadata": {},
   "source": [
    "use updated df to create some sort of list, and try to iterate through the list, if file in folder is in this list then use the, comand that move into a new folder that i would then work with"
   ]
  },
  {
   "cell_type": "code",
   "execution_count": 12,
   "metadata": {},
   "outputs": [],
   "source": [
    "name_and_style = df_all_1[['new_filename', 'style']]"
   ]
  },
  {
   "cell_type": "code",
   "execution_count": 13,
   "metadata": {},
   "outputs": [
    {
     "data": {
      "text/html": [
       "<div>\n",
       "<style scoped>\n",
       "    .dataframe tbody tr th:only-of-type {\n",
       "        vertical-align: middle;\n",
       "    }\n",
       "\n",
       "    .dataframe tbody tr th {\n",
       "        vertical-align: top;\n",
       "    }\n",
       "\n",
       "    .dataframe thead th {\n",
       "        text-align: right;\n",
       "    }\n",
       "</style>\n",
       "<table border=\"1\" class=\"dataframe\">\n",
       "  <thead>\n",
       "    <tr style=\"text-align: right;\">\n",
       "      <th></th>\n",
       "      <th>new_filename</th>\n",
       "      <th>style</th>\n",
       "    </tr>\n",
       "  </thead>\n",
       "  <tbody>\n",
       "    <tr>\n",
       "      <th>9</th>\n",
       "      <td>84512.jpg</td>\n",
       "      <td>Romanticism</td>\n",
       "    </tr>\n",
       "    <tr>\n",
       "      <th>14</th>\n",
       "      <td>99442.jpg</td>\n",
       "      <td>Romanticism</td>\n",
       "    </tr>\n",
       "    <tr>\n",
       "      <th>25</th>\n",
       "      <td>75956.jpg</td>\n",
       "      <td>Romanticism</td>\n",
       "    </tr>\n",
       "    <tr>\n",
       "      <th>28</th>\n",
       "      <td>7486.jpg</td>\n",
       "      <td>Romanticism</td>\n",
       "    </tr>\n",
       "    <tr>\n",
       "      <th>29</th>\n",
       "      <td>35766.jpg</td>\n",
       "      <td>Romanticism</td>\n",
       "    </tr>\n",
       "  </tbody>\n",
       "</table>\n",
       "</div>"
      ],
      "text/plain": [
       "   new_filename        style\n",
       "9     84512.jpg  Romanticism\n",
       "14    99442.jpg  Romanticism\n",
       "25    75956.jpg  Romanticism\n",
       "28     7486.jpg  Romanticism\n",
       "29    35766.jpg  Romanticism"
      ]
     },
     "execution_count": 13,
     "metadata": {},
     "output_type": "execute_result"
    }
   ],
   "source": [
    "name_and_style.head()"
   ]
  },
  {
   "cell_type": "code",
   "execution_count": 14,
   "metadata": {},
   "outputs": [],
   "source": [
    "name_and_style.to_csv('./binary_names_style.csv', index=False) "
   ]
  },
  {
   "cell_type": "code",
   "execution_count": null,
   "metadata": {},
   "outputs": [],
   "source": []
  }
 ],
 "metadata": {
  "kernelspec": {
   "display_name": "Python 3",
   "language": "python",
   "name": "python3"
  },
  "language_info": {
   "codemirror_mode": {
    "name": "ipython",
    "version": 3
   },
   "file_extension": ".py",
   "mimetype": "text/x-python",
   "name": "python",
   "nbconvert_exporter": "python",
   "pygments_lexer": "ipython3",
   "version": "3.7.4"
  }
 },
 "nbformat": 4,
 "nbformat_minor": 4
}
