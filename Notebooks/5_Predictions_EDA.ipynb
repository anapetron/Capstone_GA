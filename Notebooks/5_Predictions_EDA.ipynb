{
 "cells": [
  {
   "cell_type": "markdown",
   "metadata": {},
   "source": [
    "EDA on predictions"
   ]
  },
  {
   "cell_type": "code",
   "execution_count": 1,
   "metadata": {},
   "outputs": [],
   "source": [
    "# Import libraries and modules\n",
    "import numpy as np\n",
    "import matplotlib.pyplot as plt\n",
    "import pandas as pd\n",
    "import seaborn as sns\n",
    "\n",
    "# For reproducibility\n",
    "np.random.seed(42)"
   ]
  },
  {
   "cell_type": "markdown",
   "metadata": {},
   "source": [
    "Reading in the predictions and the meta data csv files"
   ]
  },
  {
   "cell_type": "code",
   "execution_count": 2,
   "metadata": {},
   "outputs": [],
   "source": [
    "preds = pd.read_csv('../predictions.csv')"
   ]
  },
  {
   "cell_type": "code",
   "execution_count": 3,
   "metadata": {},
   "outputs": [
    {
     "data": {
      "text/html": [
       "<div>\n",
       "<style scoped>\n",
       "    .dataframe tbody tr th:only-of-type {\n",
       "        vertical-align: middle;\n",
       "    }\n",
       "\n",
       "    .dataframe tbody tr th {\n",
       "        vertical-align: top;\n",
       "    }\n",
       "\n",
       "    .dataframe thead th {\n",
       "        text-align: right;\n",
       "    }\n",
       "</style>\n",
       "<table border=\"1\" class=\"dataframe\">\n",
       "  <thead>\n",
       "    <tr style=\"text-align: right;\">\n",
       "      <th></th>\n",
       "      <th>Percentages</th>\n",
       "      <th>filename</th>\n",
       "      <th>true classes</th>\n",
       "      <th>predicted classes</th>\n",
       "    </tr>\n",
       "  </thead>\n",
       "  <tbody>\n",
       "    <tr>\n",
       "      <th>0</th>\n",
       "      <td>0.399443</td>\n",
       "      <td>84512.jpg</td>\n",
       "      <td>1</td>\n",
       "      <td>0</td>\n",
       "    </tr>\n",
       "    <tr>\n",
       "      <th>1</th>\n",
       "      <td>0.150568</td>\n",
       "      <td>99442.jpg</td>\n",
       "      <td>1</td>\n",
       "      <td>0</td>\n",
       "    </tr>\n",
       "    <tr>\n",
       "      <th>2</th>\n",
       "      <td>0.098132</td>\n",
       "      <td>75956.jpg</td>\n",
       "      <td>1</td>\n",
       "      <td>0</td>\n",
       "    </tr>\n",
       "    <tr>\n",
       "      <th>3</th>\n",
       "      <td>0.442577</td>\n",
       "      <td>7486.jpg</td>\n",
       "      <td>1</td>\n",
       "      <td>0</td>\n",
       "    </tr>\n",
       "    <tr>\n",
       "      <th>4</th>\n",
       "      <td>0.544760</td>\n",
       "      <td>35766.jpg</td>\n",
       "      <td>1</td>\n",
       "      <td>1</td>\n",
       "    </tr>\n",
       "  </tbody>\n",
       "</table>\n",
       "</div>"
      ],
      "text/plain": [
       "   Percentages   filename  true classes  predicted classes\n",
       "0     0.399443  84512.jpg             1                  0\n",
       "1     0.150568  99442.jpg             1                  0\n",
       "2     0.098132  75956.jpg             1                  0\n",
       "3     0.442577   7486.jpg             1                  0\n",
       "4     0.544760  35766.jpg             1                  1"
      ]
     },
     "execution_count": 3,
     "metadata": {},
     "output_type": "execute_result"
    }
   ],
   "source": [
    "preds.head()"
   ]
  },
  {
   "cell_type": "code",
   "execution_count": 4,
   "metadata": {},
   "outputs": [],
   "source": [
    "info = pd.read_csv('../Data_csv/binary_all_info.csv')"
   ]
  },
  {
   "cell_type": "code",
   "execution_count": 5,
   "metadata": {},
   "outputs": [
    {
     "data": {
      "text/html": [
       "<div>\n",
       "<style scoped>\n",
       "    .dataframe tbody tr th:only-of-type {\n",
       "        vertical-align: middle;\n",
       "    }\n",
       "\n",
       "    .dataframe tbody tr th {\n",
       "        vertical-align: top;\n",
       "    }\n",
       "\n",
       "    .dataframe thead th {\n",
       "        text-align: right;\n",
       "    }\n",
       "</style>\n",
       "<table border=\"1\" class=\"dataframe\">\n",
       "  <thead>\n",
       "    <tr style=\"text-align: right;\">\n",
       "      <th></th>\n",
       "      <th>style</th>\n",
       "      <th>new_filename</th>\n",
       "      <th>title</th>\n",
       "      <th>source</th>\n",
       "      <th>size_bytes</th>\n",
       "      <th>pixelsy</th>\n",
       "      <th>pixelsx</th>\n",
       "      <th>genre</th>\n",
       "      <th>date</th>\n",
       "      <th>artist</th>\n",
       "    </tr>\n",
       "  </thead>\n",
       "  <tbody>\n",
       "    <tr>\n",
       "      <th>0</th>\n",
       "      <td>Romanticism</td>\n",
       "      <td>84512.jpg</td>\n",
       "      <td>Procession in Naples</td>\n",
       "      <td>wikiart</td>\n",
       "      <td>7896792.0</td>\n",
       "      <td>7352.0</td>\n",
       "      <td>6238.0</td>\n",
       "      <td>cityscape</td>\n",
       "      <td>NaN</td>\n",
       "      <td>Franz Richard Unterberger</td>\n",
       "    </tr>\n",
       "    <tr>\n",
       "      <th>1</th>\n",
       "      <td>Romanticism</td>\n",
       "      <td>99442.jpg</td>\n",
       "      <td>Storm at sea</td>\n",
       "      <td>wikiart</td>\n",
       "      <td>3189597.0</td>\n",
       "      <td>5811.0</td>\n",
       "      <td>7444.0</td>\n",
       "      <td>marina</td>\n",
       "      <td>1873</td>\n",
       "      <td>Ivan Aivazovsky</td>\n",
       "    </tr>\n",
       "    <tr>\n",
       "      <th>2</th>\n",
       "      <td>Romanticism</td>\n",
       "      <td>75956.jpg</td>\n",
       "      <td>The Constitution of the 3rd May 1791</td>\n",
       "      <td>wikipedia</td>\n",
       "      <td>7284812.0</td>\n",
       "      <td>4135.0</td>\n",
       "      <td>7459.0</td>\n",
       "      <td>history painting</td>\n",
       "      <td>1891.0</td>\n",
       "      <td>Jan Matejko</td>\n",
       "    </tr>\n",
       "    <tr>\n",
       "      <th>3</th>\n",
       "      <td>Romanticism</td>\n",
       "      <td>7486.jpg</td>\n",
       "      <td>Death of Eleazer</td>\n",
       "      <td>wikiart</td>\n",
       "      <td>29811319.0</td>\n",
       "      <td>6068.0</td>\n",
       "      <td>4915.0</td>\n",
       "      <td>religious painting</td>\n",
       "      <td>1866</td>\n",
       "      <td>Gustave Dore</td>\n",
       "    </tr>\n",
       "    <tr>\n",
       "      <th>4</th>\n",
       "      <td>Romanticism</td>\n",
       "      <td>35766.jpg</td>\n",
       "      <td>The-Deluge</td>\n",
       "      <td>wikiart</td>\n",
       "      <td>32443139.0</td>\n",
       "      <td>6219.0</td>\n",
       "      <td>4770.0</td>\n",
       "      <td>religious painting</td>\n",
       "      <td>NaN</td>\n",
       "      <td>Gustave Dore</td>\n",
       "    </tr>\n",
       "  </tbody>\n",
       "</table>\n",
       "</div>"
      ],
      "text/plain": [
       "         style new_filename                                 title     source  \\\n",
       "0  Romanticism    84512.jpg                 Procession in Naples     wikiart   \n",
       "1  Romanticism    99442.jpg                          Storm at sea    wikiart   \n",
       "2  Romanticism    75956.jpg  The Constitution of the 3rd May 1791  wikipedia   \n",
       "3  Romanticism     7486.jpg                      Death of Eleazer    wikiart   \n",
       "4  Romanticism    35766.jpg                            The-Deluge    wikiart   \n",
       "\n",
       "   size_bytes  pixelsy  pixelsx               genre    date  \\\n",
       "0   7896792.0   7352.0   6238.0           cityscape     NaN   \n",
       "1   3189597.0   5811.0   7444.0              marina    1873   \n",
       "2   7284812.0   4135.0   7459.0    history painting  1891.0   \n",
       "3  29811319.0   6068.0   4915.0  religious painting    1866   \n",
       "4  32443139.0   6219.0   4770.0  religious painting     NaN   \n",
       "\n",
       "                      artist  \n",
       "0  Franz Richard Unterberger  \n",
       "1            Ivan Aivazovsky  \n",
       "2                Jan Matejko  \n",
       "3               Gustave Dore  \n",
       "4               Gustave Dore  "
      ]
     },
     "execution_count": 5,
     "metadata": {},
     "output_type": "execute_result"
    }
   ],
   "source": [
    "info.head()"
   ]
  },
  {
   "cell_type": "markdown",
   "metadata": {},
   "source": [
    "First cast Percentages column as actual percentages. This column is how likely something was the positive class."
   ]
  },
  {
   "cell_type": "code",
   "execution_count": 6,
   "metadata": {},
   "outputs": [],
   "source": [
    "preds.Percentages = (preds.Percentages * 100).astype(float)"
   ]
  },
  {
   "cell_type": "code",
   "execution_count": 7,
   "metadata": {},
   "outputs": [
    {
     "data": {
      "text/html": [
       "<div>\n",
       "<style scoped>\n",
       "    .dataframe tbody tr th:only-of-type {\n",
       "        vertical-align: middle;\n",
       "    }\n",
       "\n",
       "    .dataframe tbody tr th {\n",
       "        vertical-align: top;\n",
       "    }\n",
       "\n",
       "    .dataframe thead th {\n",
       "        text-align: right;\n",
       "    }\n",
       "</style>\n",
       "<table border=\"1\" class=\"dataframe\">\n",
       "  <thead>\n",
       "    <tr style=\"text-align: right;\">\n",
       "      <th></th>\n",
       "      <th>Percentages</th>\n",
       "      <th>filename</th>\n",
       "      <th>true classes</th>\n",
       "      <th>predicted classes</th>\n",
       "    </tr>\n",
       "  </thead>\n",
       "  <tbody>\n",
       "    <tr>\n",
       "      <th>0</th>\n",
       "      <td>39.944258</td>\n",
       "      <td>84512.jpg</td>\n",
       "      <td>1</td>\n",
       "      <td>0</td>\n",
       "    </tr>\n",
       "    <tr>\n",
       "      <th>1</th>\n",
       "      <td>15.056804</td>\n",
       "      <td>99442.jpg</td>\n",
       "      <td>1</td>\n",
       "      <td>0</td>\n",
       "    </tr>\n",
       "    <tr>\n",
       "      <th>2</th>\n",
       "      <td>9.813249</td>\n",
       "      <td>75956.jpg</td>\n",
       "      <td>1</td>\n",
       "      <td>0</td>\n",
       "    </tr>\n",
       "    <tr>\n",
       "      <th>3</th>\n",
       "      <td>44.257727</td>\n",
       "      <td>7486.jpg</td>\n",
       "      <td>1</td>\n",
       "      <td>0</td>\n",
       "    </tr>\n",
       "    <tr>\n",
       "      <th>4</th>\n",
       "      <td>54.476047</td>\n",
       "      <td>35766.jpg</td>\n",
       "      <td>1</td>\n",
       "      <td>1</td>\n",
       "    </tr>\n",
       "  </tbody>\n",
       "</table>\n",
       "</div>"
      ],
      "text/plain": [
       "   Percentages   filename  true classes  predicted classes\n",
       "0    39.944258  84512.jpg             1                  0\n",
       "1    15.056804  99442.jpg             1                  0\n",
       "2     9.813249  75956.jpg             1                  0\n",
       "3    44.257727   7486.jpg             1                  0\n",
       "4    54.476047  35766.jpg             1                  1"
      ]
     },
     "execution_count": 7,
     "metadata": {},
     "output_type": "execute_result"
    }
   ],
   "source": [
    "preds.head()"
   ]
  },
  {
   "cell_type": "code",
   "execution_count": 8,
   "metadata": {},
   "outputs": [],
   "source": [
    "preds = preds.round(2)"
   ]
  },
  {
   "cell_type": "code",
   "execution_count": 9,
   "metadata": {},
   "outputs": [
    {
     "data": {
      "text/html": [
       "<div>\n",
       "<style scoped>\n",
       "    .dataframe tbody tr th:only-of-type {\n",
       "        vertical-align: middle;\n",
       "    }\n",
       "\n",
       "    .dataframe tbody tr th {\n",
       "        vertical-align: top;\n",
       "    }\n",
       "\n",
       "    .dataframe thead th {\n",
       "        text-align: right;\n",
       "    }\n",
       "</style>\n",
       "<table border=\"1\" class=\"dataframe\">\n",
       "  <thead>\n",
       "    <tr style=\"text-align: right;\">\n",
       "      <th></th>\n",
       "      <th>Percentages</th>\n",
       "      <th>filename</th>\n",
       "      <th>true classes</th>\n",
       "      <th>predicted classes</th>\n",
       "    </tr>\n",
       "  </thead>\n",
       "  <tbody>\n",
       "    <tr>\n",
       "      <th>0</th>\n",
       "      <td>39.94</td>\n",
       "      <td>84512.jpg</td>\n",
       "      <td>1</td>\n",
       "      <td>0</td>\n",
       "    </tr>\n",
       "    <tr>\n",
       "      <th>1</th>\n",
       "      <td>15.06</td>\n",
       "      <td>99442.jpg</td>\n",
       "      <td>1</td>\n",
       "      <td>0</td>\n",
       "    </tr>\n",
       "    <tr>\n",
       "      <th>2</th>\n",
       "      <td>9.81</td>\n",
       "      <td>75956.jpg</td>\n",
       "      <td>1</td>\n",
       "      <td>0</td>\n",
       "    </tr>\n",
       "    <tr>\n",
       "      <th>3</th>\n",
       "      <td>44.26</td>\n",
       "      <td>7486.jpg</td>\n",
       "      <td>1</td>\n",
       "      <td>0</td>\n",
       "    </tr>\n",
       "    <tr>\n",
       "      <th>4</th>\n",
       "      <td>54.48</td>\n",
       "      <td>35766.jpg</td>\n",
       "      <td>1</td>\n",
       "      <td>1</td>\n",
       "    </tr>\n",
       "  </tbody>\n",
       "</table>\n",
       "</div>"
      ],
      "text/plain": [
       "   Percentages   filename  true classes  predicted classes\n",
       "0        39.94  84512.jpg             1                  0\n",
       "1        15.06  99442.jpg             1                  0\n",
       "2         9.81  75956.jpg             1                  0\n",
       "3        44.26   7486.jpg             1                  0\n",
       "4        54.48  35766.jpg             1                  1"
      ]
     },
     "execution_count": 9,
     "metadata": {},
     "output_type": "execute_result"
    }
   ],
   "source": [
    "preds.head()"
   ]
  },
  {
   "cell_type": "code",
   "execution_count": 10,
   "metadata": {},
   "outputs": [],
   "source": [
    "info2 = info.rename(columns={'new_filename': 'filename'})"
   ]
  },
  {
   "cell_type": "code",
   "execution_count": 11,
   "metadata": {
    "scrolled": true
   },
   "outputs": [],
   "source": [
    "df = pd.merge(preds, info2, on='filename', how='outer')"
   ]
  },
  {
   "cell_type": "code",
   "execution_count": 12,
   "metadata": {},
   "outputs": [
    {
     "data": {
      "text/html": [
       "<div>\n",
       "<style scoped>\n",
       "    .dataframe tbody tr th:only-of-type {\n",
       "        vertical-align: middle;\n",
       "    }\n",
       "\n",
       "    .dataframe tbody tr th {\n",
       "        vertical-align: top;\n",
       "    }\n",
       "\n",
       "    .dataframe thead th {\n",
       "        text-align: right;\n",
       "    }\n",
       "</style>\n",
       "<table border=\"1\" class=\"dataframe\">\n",
       "  <thead>\n",
       "    <tr style=\"text-align: right;\">\n",
       "      <th></th>\n",
       "      <th>Percentages</th>\n",
       "      <th>filename</th>\n",
       "      <th>true classes</th>\n",
       "      <th>predicted classes</th>\n",
       "      <th>style</th>\n",
       "      <th>title</th>\n",
       "      <th>source</th>\n",
       "      <th>size_bytes</th>\n",
       "      <th>pixelsy</th>\n",
       "      <th>pixelsx</th>\n",
       "      <th>genre</th>\n",
       "      <th>date</th>\n",
       "      <th>artist</th>\n",
       "    </tr>\n",
       "  </thead>\n",
       "  <tbody>\n",
       "    <tr>\n",
       "      <th>0</th>\n",
       "      <td>39.94</td>\n",
       "      <td>84512.jpg</td>\n",
       "      <td>1.0</td>\n",
       "      <td>0.0</td>\n",
       "      <td>Romanticism</td>\n",
       "      <td>Procession in Naples</td>\n",
       "      <td>wikiart</td>\n",
       "      <td>7896792.0</td>\n",
       "      <td>7352.0</td>\n",
       "      <td>6238.0</td>\n",
       "      <td>cityscape</td>\n",
       "      <td>NaN</td>\n",
       "      <td>Franz Richard Unterberger</td>\n",
       "    </tr>\n",
       "    <tr>\n",
       "      <th>1</th>\n",
       "      <td>15.06</td>\n",
       "      <td>99442.jpg</td>\n",
       "      <td>1.0</td>\n",
       "      <td>0.0</td>\n",
       "      <td>Romanticism</td>\n",
       "      <td>Storm at sea</td>\n",
       "      <td>wikiart</td>\n",
       "      <td>3189597.0</td>\n",
       "      <td>5811.0</td>\n",
       "      <td>7444.0</td>\n",
       "      <td>marina</td>\n",
       "      <td>1873</td>\n",
       "      <td>Ivan Aivazovsky</td>\n",
       "    </tr>\n",
       "    <tr>\n",
       "      <th>2</th>\n",
       "      <td>9.81</td>\n",
       "      <td>75956.jpg</td>\n",
       "      <td>1.0</td>\n",
       "      <td>0.0</td>\n",
       "      <td>Romanticism</td>\n",
       "      <td>The Constitution of the 3rd May 1791</td>\n",
       "      <td>wikipedia</td>\n",
       "      <td>7284812.0</td>\n",
       "      <td>4135.0</td>\n",
       "      <td>7459.0</td>\n",
       "      <td>history painting</td>\n",
       "      <td>1891.0</td>\n",
       "      <td>Jan Matejko</td>\n",
       "    </tr>\n",
       "    <tr>\n",
       "      <th>3</th>\n",
       "      <td>44.26</td>\n",
       "      <td>7486.jpg</td>\n",
       "      <td>1.0</td>\n",
       "      <td>0.0</td>\n",
       "      <td>Romanticism</td>\n",
       "      <td>Death of Eleazer</td>\n",
       "      <td>wikiart</td>\n",
       "      <td>29811319.0</td>\n",
       "      <td>6068.0</td>\n",
       "      <td>4915.0</td>\n",
       "      <td>religious painting</td>\n",
       "      <td>1866</td>\n",
       "      <td>Gustave Dore</td>\n",
       "    </tr>\n",
       "    <tr>\n",
       "      <th>4</th>\n",
       "      <td>54.48</td>\n",
       "      <td>35766.jpg</td>\n",
       "      <td>1.0</td>\n",
       "      <td>1.0</td>\n",
       "      <td>Romanticism</td>\n",
       "      <td>The-Deluge</td>\n",
       "      <td>wikiart</td>\n",
       "      <td>32443139.0</td>\n",
       "      <td>6219.0</td>\n",
       "      <td>4770.0</td>\n",
       "      <td>religious painting</td>\n",
       "      <td>NaN</td>\n",
       "      <td>Gustave Dore</td>\n",
       "    </tr>\n",
       "  </tbody>\n",
       "</table>\n",
       "</div>"
      ],
      "text/plain": [
       "   Percentages   filename  true classes  predicted classes        style  \\\n",
       "0        39.94  84512.jpg           1.0                0.0  Romanticism   \n",
       "1        15.06  99442.jpg           1.0                0.0  Romanticism   \n",
       "2         9.81  75956.jpg           1.0                0.0  Romanticism   \n",
       "3        44.26   7486.jpg           1.0                0.0  Romanticism   \n",
       "4        54.48  35766.jpg           1.0                1.0  Romanticism   \n",
       "\n",
       "                                  title     source  size_bytes  pixelsy  \\\n",
       "0                 Procession in Naples     wikiart   7896792.0   7352.0   \n",
       "1                          Storm at sea    wikiart   3189597.0   5811.0   \n",
       "2  The Constitution of the 3rd May 1791  wikipedia   7284812.0   4135.0   \n",
       "3                      Death of Eleazer    wikiart  29811319.0   6068.0   \n",
       "4                            The-Deluge    wikiart  32443139.0   6219.0   \n",
       "\n",
       "   pixelsx               genre    date                     artist  \n",
       "0   6238.0           cityscape     NaN  Franz Richard Unterberger  \n",
       "1   7444.0              marina    1873            Ivan Aivazovsky  \n",
       "2   7459.0    history painting  1891.0                Jan Matejko  \n",
       "3   4915.0  religious painting    1866               Gustave Dore  \n",
       "4   4770.0  religious painting     NaN               Gustave Dore  "
      ]
     },
     "execution_count": 12,
     "metadata": {},
     "output_type": "execute_result"
    }
   ],
   "source": [
    "df.head()"
   ]
  },
  {
   "cell_type": "code",
   "execution_count": 13,
   "metadata": {},
   "outputs": [
    {
     "data": {
      "text/plain": [
       "Percentages          14946\n",
       "filename                 0\n",
       "true classes         14946\n",
       "predicted classes    14946\n",
       "style                    0\n",
       "title                    0\n",
       "source                   0\n",
       "size_bytes               0\n",
       "pixelsy                  0\n",
       "pixelsx                  0\n",
       "genre                   46\n",
       "date                  5109\n",
       "artist                   0\n",
       "dtype: int64"
      ]
     },
     "execution_count": 13,
     "metadata": {},
     "output_type": "execute_result"
    }
   ],
   "source": [
    "df.isnull().sum()"
   ]
  },
  {
   "cell_type": "code",
   "execution_count": 14,
   "metadata": {},
   "outputs": [],
   "source": [
    "#dropping the 14946 null values since it was in the training set.\n",
    "df.dropna(subset=['Percentages'], inplace=True)"
   ]
  },
  {
   "cell_type": "code",
   "execution_count": 15,
   "metadata": {},
   "outputs": [
    {
     "data": {
      "text/plain": [
       "Percentages             0\n",
       "filename                0\n",
       "true classes            0\n",
       "predicted classes       0\n",
       "style                   0\n",
       "title                   0\n",
       "source                  0\n",
       "size_bytes              0\n",
       "pixelsy                 0\n",
       "pixelsx                 0\n",
       "genre                  12\n",
       "date                 1077\n",
       "artist                  0\n",
       "dtype: int64"
      ]
     },
     "execution_count": 15,
     "metadata": {},
     "output_type": "execute_result"
    }
   ],
   "source": [
    "# checking amount of null values again\n",
    "df.isnull().sum()"
   ]
  },
  {
   "cell_type": "code",
   "execution_count": 16,
   "metadata": {},
   "outputs": [],
   "source": [
    "#dropping missing values in date\n",
    "df.dropna(subset=['date'], inplace=True)"
   ]
  },
  {
   "cell_type": "code",
   "execution_count": null,
   "metadata": {},
   "outputs": [],
   "source": [
    "# we have 1077 null values from date, and 12 from genre.\n",
    "# i will input the missing values with 0 for the date."
   ]
  },
  {
   "cell_type": "code",
   "execution_count": 17,
   "metadata": {},
   "outputs": [
    {
     "data": {
      "text/plain": [
       "1872      77\n",
       "1882      74\n",
       "1874      71\n",
       "1880      70\n",
       "1885      68\n",
       "          ..\n",
       "1770       1\n",
       "c.1834     1\n",
       "1802       1\n",
       "c.1923     1\n",
       "c.1849     1\n",
       "Name: date, Length: 389, dtype: int64"
      ]
     },
     "execution_count": 17,
     "metadata": {},
     "output_type": "execute_result"
    }
   ],
   "source": [
    "df['date'].value_counts()"
   ]
  },
  {
   "cell_type": "code",
   "execution_count": 18,
   "metadata": {},
   "outputs": [],
   "source": [
    "df['Year'] = df['date'].str.extract('(\\d+)', expand=False)"
   ]
  },
  {
   "cell_type": "code",
   "execution_count": 19,
   "metadata": {},
   "outputs": [
    {
     "data": {
      "text/html": [
       "<div>\n",
       "<style scoped>\n",
       "    .dataframe tbody tr th:only-of-type {\n",
       "        vertical-align: middle;\n",
       "    }\n",
       "\n",
       "    .dataframe tbody tr th {\n",
       "        vertical-align: top;\n",
       "    }\n",
       "\n",
       "    .dataframe thead th {\n",
       "        text-align: right;\n",
       "    }\n",
       "</style>\n",
       "<table border=\"1\" class=\"dataframe\">\n",
       "  <thead>\n",
       "    <tr style=\"text-align: right;\">\n",
       "      <th></th>\n",
       "      <th>Percentages</th>\n",
       "      <th>filename</th>\n",
       "      <th>true classes</th>\n",
       "      <th>predicted classes</th>\n",
       "      <th>style</th>\n",
       "      <th>title</th>\n",
       "      <th>source</th>\n",
       "      <th>size_bytes</th>\n",
       "      <th>pixelsy</th>\n",
       "      <th>pixelsx</th>\n",
       "      <th>genre</th>\n",
       "      <th>date</th>\n",
       "      <th>artist</th>\n",
       "      <th>Year</th>\n",
       "    </tr>\n",
       "  </thead>\n",
       "  <tbody>\n",
       "    <tr>\n",
       "      <th>1</th>\n",
       "      <td>15.06</td>\n",
       "      <td>99442.jpg</td>\n",
       "      <td>1.0</td>\n",
       "      <td>0.0</td>\n",
       "      <td>Romanticism</td>\n",
       "      <td>Storm at sea</td>\n",
       "      <td>wikiart</td>\n",
       "      <td>3189597.0</td>\n",
       "      <td>5811.0</td>\n",
       "      <td>7444.0</td>\n",
       "      <td>marina</td>\n",
       "      <td>1873</td>\n",
       "      <td>Ivan Aivazovsky</td>\n",
       "      <td>1873</td>\n",
       "    </tr>\n",
       "    <tr>\n",
       "      <th>2</th>\n",
       "      <td>9.81</td>\n",
       "      <td>75956.jpg</td>\n",
       "      <td>1.0</td>\n",
       "      <td>0.0</td>\n",
       "      <td>Romanticism</td>\n",
       "      <td>The Constitution of the 3rd May 1791</td>\n",
       "      <td>wikipedia</td>\n",
       "      <td>7284812.0</td>\n",
       "      <td>4135.0</td>\n",
       "      <td>7459.0</td>\n",
       "      <td>history painting</td>\n",
       "      <td>1891.0</td>\n",
       "      <td>Jan Matejko</td>\n",
       "      <td>1891</td>\n",
       "    </tr>\n",
       "    <tr>\n",
       "      <th>3</th>\n",
       "      <td>44.26</td>\n",
       "      <td>7486.jpg</td>\n",
       "      <td>1.0</td>\n",
       "      <td>0.0</td>\n",
       "      <td>Romanticism</td>\n",
       "      <td>Death of Eleazer</td>\n",
       "      <td>wikiart</td>\n",
       "      <td>29811319.0</td>\n",
       "      <td>6068.0</td>\n",
       "      <td>4915.0</td>\n",
       "      <td>religious painting</td>\n",
       "      <td>1866</td>\n",
       "      <td>Gustave Dore</td>\n",
       "      <td>1866</td>\n",
       "    </tr>\n",
       "  </tbody>\n",
       "</table>\n",
       "</div>"
      ],
      "text/plain": [
       "   Percentages   filename  true classes  predicted classes        style  \\\n",
       "1        15.06  99442.jpg           1.0                0.0  Romanticism   \n",
       "2         9.81  75956.jpg           1.0                0.0  Romanticism   \n",
       "3        44.26   7486.jpg           1.0                0.0  Romanticism   \n",
       "\n",
       "                                  title     source  size_bytes  pixelsy  \\\n",
       "1                          Storm at sea    wikiart   3189597.0   5811.0   \n",
       "2  The Constitution of the 3rd May 1791  wikipedia   7284812.0   4135.0   \n",
       "3                      Death of Eleazer    wikiart  29811319.0   6068.0   \n",
       "\n",
       "   pixelsx               genre    date           artist  Year  \n",
       "1   7444.0              marina    1873  Ivan Aivazovsky  1873  \n",
       "2   7459.0    history painting  1891.0      Jan Matejko  1891  \n",
       "3   4915.0  religious painting    1866     Gustave Dore  1866  "
      ]
     },
     "execution_count": 19,
     "metadata": {},
     "output_type": "execute_result"
    }
   ],
   "source": [
    "df.head(3)"
   ]
  },
  {
   "cell_type": "code",
   "execution_count": 20,
   "metadata": {
    "scrolled": false
   },
   "outputs": [
    {
     "data": {
      "text/plain": [
       "1880    94\n",
       "1882    88\n",
       "1872    87\n",
       "1885    85\n",
       "1874    82\n",
       "        ..\n",
       "1932     1\n",
       "1979     1\n",
       "1789     1\n",
       "1798     1\n",
       "1774     1\n",
       "Name: Year, Length: 166, dtype: int64"
      ]
     },
     "execution_count": 20,
     "metadata": {},
     "output_type": "execute_result"
    }
   ],
   "source": [
    "df['Year'].value_counts()"
   ]
  },
  {
   "cell_type": "code",
   "execution_count": 21,
   "metadata": {},
   "outputs": [],
   "source": [
    "df.to_csv('../final_clean3.csv', index=False) "
   ]
  },
  {
   "cell_type": "code",
   "execution_count": 22,
   "metadata": {},
   "outputs": [
    {
     "data": {
      "text/html": [
       "<div>\n",
       "<style scoped>\n",
       "    .dataframe tbody tr th:only-of-type {\n",
       "        vertical-align: middle;\n",
       "    }\n",
       "\n",
       "    .dataframe tbody tr th {\n",
       "        vertical-align: top;\n",
       "    }\n",
       "\n",
       "    .dataframe thead th {\n",
       "        text-align: right;\n",
       "    }\n",
       "</style>\n",
       "<table border=\"1\" class=\"dataframe\">\n",
       "  <thead>\n",
       "    <tr style=\"text-align: right;\">\n",
       "      <th></th>\n",
       "      <th>Percentages</th>\n",
       "      <th>filename</th>\n",
       "      <th>true classes</th>\n",
       "      <th>predicted classes</th>\n",
       "      <th>style</th>\n",
       "      <th>title</th>\n",
       "      <th>source</th>\n",
       "      <th>size_bytes</th>\n",
       "      <th>pixelsy</th>\n",
       "      <th>pixelsx</th>\n",
       "      <th>genre</th>\n",
       "      <th>date</th>\n",
       "      <th>artist</th>\n",
       "      <th>Year</th>\n",
       "    </tr>\n",
       "  </thead>\n",
       "  <tbody>\n",
       "    <tr>\n",
       "      <th>1139</th>\n",
       "      <td>45.06</td>\n",
       "      <td>81823.jpg</td>\n",
       "      <td>0.0</td>\n",
       "      <td>0.0</td>\n",
       "      <td>Impressionism</td>\n",
       "      <td>Dance at Moulin de la Galette</td>\n",
       "      <td>wikipedia</td>\n",
       "      <td>3794891.0</td>\n",
       "      <td>1639.0</td>\n",
       "      <td>2200.0</td>\n",
       "      <td>genre painting</td>\n",
       "      <td>1876</td>\n",
       "      <td>Pierre-Auguste Renoir</td>\n",
       "      <td>1876</td>\n",
       "    </tr>\n",
       "  </tbody>\n",
       "</table>\n",
       "</div>"
      ],
      "text/plain": [
       "      Percentages   filename  true classes  predicted classes          style  \\\n",
       "1139        45.06  81823.jpg           0.0                0.0  Impressionism   \n",
       "\n",
       "                              title     source  size_bytes  pixelsy  pixelsx  \\\n",
       "1139  Dance at Moulin de la Galette  wikipedia   3794891.0   1639.0   2200.0   \n",
       "\n",
       "               genre  date                 artist  Year  \n",
       "1139  genre painting  1876  Pierre-Auguste Renoir  1876  "
      ]
     },
     "execution_count": 22,
     "metadata": {},
     "output_type": "execute_result"
    }
   ],
   "source": [
    "df.loc[df['filename'] == '81823.jpg']\n",
    "# Impressionism\n",
    "# Renoir - Dance at Moulin de la Galette\n",
    "# 45.06% romanticism"
   ]
  },
  {
   "cell_type": "code",
   "execution_count": 23,
   "metadata": {},
   "outputs": [
    {
     "data": {
      "text/html": [
       "<div>\n",
       "<style scoped>\n",
       "    .dataframe tbody tr th:only-of-type {\n",
       "        vertical-align: middle;\n",
       "    }\n",
       "\n",
       "    .dataframe tbody tr th {\n",
       "        vertical-align: top;\n",
       "    }\n",
       "\n",
       "    .dataframe thead th {\n",
       "        text-align: right;\n",
       "    }\n",
       "</style>\n",
       "<table border=\"1\" class=\"dataframe\">\n",
       "  <thead>\n",
       "    <tr style=\"text-align: right;\">\n",
       "      <th></th>\n",
       "      <th>Percentages</th>\n",
       "      <th>filename</th>\n",
       "      <th>true classes</th>\n",
       "      <th>predicted classes</th>\n",
       "      <th>style</th>\n",
       "      <th>title</th>\n",
       "      <th>source</th>\n",
       "      <th>size_bytes</th>\n",
       "      <th>pixelsy</th>\n",
       "      <th>pixelsx</th>\n",
       "      <th>genre</th>\n",
       "      <th>date</th>\n",
       "      <th>artist</th>\n",
       "      <th>Year</th>\n",
       "    </tr>\n",
       "  </thead>\n",
       "  <tbody>\n",
       "    <tr>\n",
       "      <th>2691</th>\n",
       "      <td>64.97</td>\n",
       "      <td>54404.jpg</td>\n",
       "      <td>0.0</td>\n",
       "      <td>1.0</td>\n",
       "      <td>Impressionism</td>\n",
       "      <td>The Luncheon of the Boating Party</td>\n",
       "      <td>wikiart</td>\n",
       "      <td>387073.0</td>\n",
       "      <td>1063.0</td>\n",
       "      <td>1600.0</td>\n",
       "      <td>genre painting</td>\n",
       "      <td>1881</td>\n",
       "      <td>Pierre-Auguste Renoir</td>\n",
       "      <td>1881</td>\n",
       "    </tr>\n",
       "  </tbody>\n",
       "</table>\n",
       "</div>"
      ],
      "text/plain": [
       "      Percentages   filename  true classes  predicted classes          style  \\\n",
       "2691        64.97  54404.jpg           0.0                1.0  Impressionism   \n",
       "\n",
       "                                  title   source  size_bytes  pixelsy  \\\n",
       "2691  The Luncheon of the Boating Party  wikiart    387073.0   1063.0   \n",
       "\n",
       "      pixelsx           genre  date                 artist  Year  \n",
       "2691   1600.0  genre painting  1881  Pierre-Auguste Renoir  1881  "
      ]
     },
     "execution_count": 23,
     "metadata": {},
     "output_type": "execute_result"
    }
   ],
   "source": [
    "df.loc[df['filename'] == '54404.jpg']\n",
    "# Impressionism\n",
    "# Renoir - The luncheon of the Boating Party\n",
    "# 64.97% romanticism"
   ]
  },
  {
   "cell_type": "code",
   "execution_count": 24,
   "metadata": {},
   "outputs": [
    {
     "data": {
      "text/html": [
       "<div>\n",
       "<style scoped>\n",
       "    .dataframe tbody tr th:only-of-type {\n",
       "        vertical-align: middle;\n",
       "    }\n",
       "\n",
       "    .dataframe tbody tr th {\n",
       "        vertical-align: top;\n",
       "    }\n",
       "\n",
       "    .dataframe thead th {\n",
       "        text-align: right;\n",
       "    }\n",
       "</style>\n",
       "<table border=\"1\" class=\"dataframe\">\n",
       "  <thead>\n",
       "    <tr style=\"text-align: right;\">\n",
       "      <th></th>\n",
       "      <th>Percentages</th>\n",
       "      <th>filename</th>\n",
       "      <th>true classes</th>\n",
       "      <th>predicted classes</th>\n",
       "      <th>style</th>\n",
       "      <th>title</th>\n",
       "      <th>source</th>\n",
       "      <th>size_bytes</th>\n",
       "      <th>pixelsy</th>\n",
       "      <th>pixelsx</th>\n",
       "      <th>genre</th>\n",
       "      <th>date</th>\n",
       "      <th>artist</th>\n",
       "      <th>Year</th>\n",
       "    </tr>\n",
       "  </thead>\n",
       "  <tbody>\n",
       "    <tr>\n",
       "      <th>1244</th>\n",
       "      <td>93.84</td>\n",
       "      <td>8396.jpg</td>\n",
       "      <td>0.0</td>\n",
       "      <td>1.0</td>\n",
       "      <td>Impressionism</td>\n",
       "      <td>Impression, sunrise</td>\n",
       "      <td>wikiart</td>\n",
       "      <td>379330.0</td>\n",
       "      <td>1658.0</td>\n",
       "      <td>2022.0</td>\n",
       "      <td>cityscape</td>\n",
       "      <td>1873</td>\n",
       "      <td>Claude Monet</td>\n",
       "      <td>1873</td>\n",
       "    </tr>\n",
       "  </tbody>\n",
       "</table>\n",
       "</div>"
      ],
      "text/plain": [
       "      Percentages  filename  true classes  predicted classes          style  \\\n",
       "1244        93.84  8396.jpg           0.0                1.0  Impressionism   \n",
       "\n",
       "                    title   source  size_bytes  pixelsy  pixelsx      genre  \\\n",
       "1244  Impression, sunrise  wikiart    379330.0   1658.0   2022.0  cityscape   \n",
       "\n",
       "      date        artist  Year  \n",
       "1244  1873  Claude Monet  1873  "
      ]
     },
     "execution_count": 24,
     "metadata": {},
     "output_type": "execute_result"
    }
   ],
   "source": [
    "df.loc[df['filename'] == '8396.jpg']\n",
    "# Monet - Impression, sunrise\n",
    "# 93.84% romanticism"
   ]
  },
  {
   "cell_type": "code",
   "execution_count": 25,
   "metadata": {},
   "outputs": [
    {
     "data": {
      "text/html": [
       "<div>\n",
       "<style scoped>\n",
       "    .dataframe tbody tr th:only-of-type {\n",
       "        vertical-align: middle;\n",
       "    }\n",
       "\n",
       "    .dataframe tbody tr th {\n",
       "        vertical-align: top;\n",
       "    }\n",
       "\n",
       "    .dataframe thead th {\n",
       "        text-align: right;\n",
       "    }\n",
       "</style>\n",
       "<table border=\"1\" class=\"dataframe\">\n",
       "  <thead>\n",
       "    <tr style=\"text-align: right;\">\n",
       "      <th></th>\n",
       "      <th>Percentages</th>\n",
       "      <th>filename</th>\n",
       "      <th>true classes</th>\n",
       "      <th>predicted classes</th>\n",
       "      <th>style</th>\n",
       "      <th>title</th>\n",
       "      <th>source</th>\n",
       "      <th>size_bytes</th>\n",
       "      <th>pixelsy</th>\n",
       "      <th>pixelsx</th>\n",
       "      <th>genre</th>\n",
       "      <th>date</th>\n",
       "      <th>artist</th>\n",
       "      <th>Year</th>\n",
       "    </tr>\n",
       "  </thead>\n",
       "  <tbody>\n",
       "    <tr>\n",
       "      <th>630</th>\n",
       "      <td>18.13</td>\n",
       "      <td>70336.jpg</td>\n",
       "      <td>1.0</td>\n",
       "      <td>0.0</td>\n",
       "      <td>Romanticism</td>\n",
       "      <td>Saturn Devouring His Son</td>\n",
       "      <td>wikiart</td>\n",
       "      <td>1716983.0</td>\n",
       "      <td>3051.0</td>\n",
       "      <td>1661.0</td>\n",
       "      <td>mythological painting</td>\n",
       "      <td>1823</td>\n",
       "      <td>Francisco Goya</td>\n",
       "      <td>1823</td>\n",
       "    </tr>\n",
       "  </tbody>\n",
       "</table>\n",
       "</div>"
      ],
      "text/plain": [
       "     Percentages   filename  true classes  predicted classes        style  \\\n",
       "630        18.13  70336.jpg           1.0                0.0  Romanticism   \n",
       "\n",
       "                        title   source  size_bytes  pixelsy  pixelsx  \\\n",
       "630  Saturn Devouring His Son  wikiart   1716983.0   3051.0   1661.0   \n",
       "\n",
       "                     genre  date          artist  Year  \n",
       "630  mythological painting  1823  Francisco Goya  1823  "
      ]
     },
     "execution_count": 25,
     "metadata": {},
     "output_type": "execute_result"
    }
   ],
   "source": [
    "df.loc[df['filename'] == '70336.jpg']\n",
    "# Romanticism\n",
    "# Goya - Saturn Devouring His Son"
   ]
  },
  {
   "cell_type": "code",
   "execution_count": null,
   "metadata": {},
   "outputs": [],
   "source": [
    "sns.pairplot(df, hue=\"predicted classes\", palette=\"husl\")"
   ]
  },
  {
   "cell_type": "code",
   "execution_count": null,
   "metadata": {},
   "outputs": [],
   "source": []
  },
  {
   "cell_type": "code",
   "execution_count": null,
   "metadata": {},
   "outputs": [],
   "source": []
  }
 ],
 "metadata": {
  "kernelspec": {
   "display_name": "Python 3",
   "language": "python",
   "name": "python3"
  },
  "language_info": {
   "codemirror_mode": {
    "name": "ipython",
    "version": 3
   },
   "file_extension": ".py",
   "mimetype": "text/x-python",
   "name": "python",
   "nbconvert_exporter": "python",
   "pygments_lexer": "ipython3",
   "version": "3.7.4"
  }
 },
 "nbformat": 4,
 "nbformat_minor": 2
}
