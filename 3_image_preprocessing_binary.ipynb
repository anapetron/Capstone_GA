{
 "cells": [
  {
   "cell_type": "code",
   "execution_count": 1,
   "metadata": {},
   "outputs": [
    {
     "name": "stderr",
     "output_type": "stream",
     "text": [
      "C:\\Users\\Vera\\Anaconda3\\lib\\site-packages\\tensorflow\\python\\framework\\dtypes.py:526: FutureWarning: Passing (type, 1) or '1type' as a synonym of type is deprecated; in a future version of numpy, it will be understood as (type, (1,)) / '(1,)type'.\n",
      "  _np_qint8 = np.dtype([(\"qint8\", np.int8, 1)])\n",
      "C:\\Users\\Vera\\Anaconda3\\lib\\site-packages\\tensorflow\\python\\framework\\dtypes.py:527: FutureWarning: Passing (type, 1) or '1type' as a synonym of type is deprecated; in a future version of numpy, it will be understood as (type, (1,)) / '(1,)type'.\n",
      "  _np_quint8 = np.dtype([(\"quint8\", np.uint8, 1)])\n",
      "C:\\Users\\Vera\\Anaconda3\\lib\\site-packages\\tensorflow\\python\\framework\\dtypes.py:528: FutureWarning: Passing (type, 1) or '1type' as a synonym of type is deprecated; in a future version of numpy, it will be understood as (type, (1,)) / '(1,)type'.\n",
      "  _np_qint16 = np.dtype([(\"qint16\", np.int16, 1)])\n",
      "C:\\Users\\Vera\\Anaconda3\\lib\\site-packages\\tensorflow\\python\\framework\\dtypes.py:529: FutureWarning: Passing (type, 1) or '1type' as a synonym of type is deprecated; in a future version of numpy, it will be understood as (type, (1,)) / '(1,)type'.\n",
      "  _np_quint16 = np.dtype([(\"quint16\", np.uint16, 1)])\n",
      "C:\\Users\\Vera\\Anaconda3\\lib\\site-packages\\tensorflow\\python\\framework\\dtypes.py:530: FutureWarning: Passing (type, 1) or '1type' as a synonym of type is deprecated; in a future version of numpy, it will be understood as (type, (1,)) / '(1,)type'.\n",
      "  _np_qint32 = np.dtype([(\"qint32\", np.int32, 1)])\n",
      "C:\\Users\\Vera\\Anaconda3\\lib\\site-packages\\tensorflow\\python\\framework\\dtypes.py:535: FutureWarning: Passing (type, 1) or '1type' as a synonym of type is deprecated; in a future version of numpy, it will be understood as (type, (1,)) / '(1,)type'.\n",
      "  np_resource = np.dtype([(\"resource\", np.ubyte, 1)])\n",
      "Using TensorFlow backend.\n"
     ]
    }
   ],
   "source": [
    "# Import libraries and modules\n",
    "import numpy as np\n",
    "import matplotlib.pyplot as plt\n",
    "import pandas as pd\n",
    "from sklearn.metrics import confusion_matrix\n",
    "from sklearn import metrics\n",
    "\n",
    "# For reproducibility\n",
    "np.random.seed(42)\n",
    "\n",
    "from tensorflow.python.keras.models import Sequential\n",
    "from tensorflow.python.keras.layers import Dense, Dropout, Flatten, Conv2D, MaxPooling2D\n",
    "from tensorflow.python.keras import utils\n",
    "from keras.preprocessing.image import ImageDataGenerator \n",
    "from PIL import Image\n",
    "Image.MAX_IMAGE_PIXELS = None\n",
    "from PIL import ImageFile\n",
    "ImageFile.LOAD_TRUNCATED_IMAGES = True\n",
    "\n",
    "%config InlineBackend.figure_format = 'retina'\n",
    "from keras.models import load_model\n",
    "import keras\n",
    "import h5py\n",
    "from keras.utils import plot_model\n",
    "from keras.initializers import glorot_uniform\n",
    "from keras.preprocessing.image import ImageDataGenerator, array_to_img, img_to_array,load_img"
   ]
  },
  {
   "cell_type": "code",
   "execution_count": 2,
   "metadata": {
    "scrolled": true
   },
   "outputs": [
    {
     "name": "stdout",
     "output_type": "stream",
     "text": [
      "Found 14946 validated image filenames belonging to 2 classes.\n",
      "Found 4982 validated image filenames belonging to 2 classes.\n"
     ]
    }
   ],
   "source": [
    "# csv vile containg the image number and the style that goes with it.\n",
    "df = pd.read_csv(\"./binary_names_style.csv\")\n",
    "\n",
    "# ImageDataGenerator does the preprocessing, image agumentation and split\n",
    "datagen = ImageDataGenerator(rescale=1./255,\n",
    "                             rotation_range=20,\n",
    "                             width_shift_range=0.2,\n",
    "                             height_shift_range=0.2,\n",
    "                             horizontal_flip=True,\n",
    "                             channel_shift_range=100,\n",
    "                             brightness_range=(0.2, 1.5), #originally 0.75, 1.25\n",
    "                             validation_split=0.25) #and i split my data here into training and testing\n",
    "\n",
    "# per keras documentation validation_split: Float. Fraction of images reserved for validation (strictly between 0 and 1).\n",
    "# I assume that the validation set will not be agumented.\n",
    "\n",
    "train_gen = datagen.flow_from_dataframe(\n",
    "        dataframe=df, #the dataframe i read in\n",
    "        directory='./images2', #folder containing images\n",
    "        x_col=\"new_filename\", #column in the file that is the image name\n",
    "        y_col=\"style\", #the style that goes with the image, which is what I want to predict\n",
    "        target_size=(256, 256),\n",
    "        batch_size=32,\n",
    "        subset='training',\n",
    "        color_mode='rgb',\n",
    "        class_mode='binary') # class_mode='categorical' #try with color mode brayscale\n",
    "\n",
    "val_gen = datagen.flow_from_dataframe(\n",
    "        dataframe=df, #the dataframe i read in\n",
    "        directory='./images2', #folder containing images\n",
    "        x_col=\"new_filename\", #column in the file that is the image name\n",
    "        y_col=\"style\", #the style that goes with the image, which is what I want to predict\n",
    "        target_size=(256, 256),\n",
    "        batch_size=32,\n",
    "        subset='validation',\n",
    "        color_mode='rgb',\n",
    "        class_mode='binary') # class_mode='categorical'"
   ]
  },
  {
   "cell_type": "markdown",
   "metadata": {},
   "source": [
    "### Creating the model\n",
    "\n",
    "- CNN's go through two phases, a convolutional phase and then a fully connected/dense phase.\n",
    "- My convolution phase will have 4 stages\n",
    "- each activation function in this phase will be relu,\n",
    "- Each kernel size will be 3x3 which will also be the kernel size in the MaxPooling layer.\n",
    "- Included padding in each layer because I feel that the edges of each image are important."
   ]
  },
  {
   "cell_type": "code",
   "execution_count": 18,
   "metadata": {},
   "outputs": [],
   "source": [
    "# Instantiate a CNN.\n",
    "model = Sequential()\n",
    "\n",
    "# 1st convolutional layer.\n",
    "model.add(Conv2D(filters = 32, #from 64 to 32\n",
    "                       kernel_size = (3,3),\n",
    "                       activation = 'relu',\n",
    "                       padding='same',\n",
    "                       input_shape = (256,256,3))) # first input shape is the same that is in the target size w/ 3 for the rbg channels\n",
    "\n",
    "# 1st pooling layer.\n",
    "model.add(MaxPooling2D(pool_size = (3,3))) # dimensions of region of pooling\n",
    "\n",
    "# 2nd convolutional layer\n",
    "model.add(Conv2D(64, #from 128/ to 64\n",
    "                       kernel_size = (3,3),\n",
    "                       padding='same',\n",
    "                       activation = 'relu'))\n",
    "\n",
    "# 2nd pooling layer.\n",
    "model.add(MaxPooling2D(pool_size = (3,3)))\n",
    "\n",
    "# 3rd convolutional layer\n",
    "model.add(Conv2D(128, #from 256 to 128\n",
    "                       kernel_size = (3,3),\n",
    "                       padding='same',\n",
    "                       activation = 'relu'))\n",
    "\n",
    "# 3rd pooling layer.\n",
    "model.add(MaxPooling2D(pool_size = (3,3)))\n",
    "\n",
    "# 4th convolutional layer\n",
    "model.add(Conv2D(256, #from 512 to 256\n",
    "                       kernel_size = (3,3),\n",
    "                       padding='same',\n",
    "                       activation = 'relu'))\n",
    "\n",
    "# 4th pooling layer.\n",
    "model.add(MaxPooling2D(pool_size = (3,3)))\n",
    "\n",
    "# 5th convolutional layer\n",
    "# model.add(Conv2D(512,\n",
    "#                        kernel_size = (3,3),\n",
    "#                        padding='same',\n",
    "#                        activation = 'relu'))\n",
    "\n",
    "# 4th pooling layer.\n",
    "#model.add(MaxPooling2D(pool_size = (3,3)))\n",
    "\n",
    "\n",
    "# Flattening before moving to the fully connected phase.\n",
    "model.add(Flatten())"
   ]
  },
  {
   "cell_type": "markdown",
   "metadata": {},
   "source": [
    "### Second phase of CNN\n",
    "- It is done after the flattening. This moves toa  dense/fully connected phase, where the final neurons will be the number of categories (3).\n",
    "- Using softmax activation in the final dense layer because it is a multi classification problem.\n",
    "- Including a 0.5 dropout between each dense layer to avoid over fitting.\n",
    "- Metric is accuracy because I want to mesaure how accuratly my model will predict"
   ]
  },
  {
   "cell_type": "code",
   "execution_count": 28,
   "metadata": {},
   "outputs": [],
   "source": [
    "# note to self do not run last pooling layer"
   ]
  },
  {
   "cell_type": "code",
   "execution_count": 19,
   "metadata": {},
   "outputs": [],
   "source": [
    "\n",
    "# 1st densely-connected layer\n",
    "model.add(Dense(256, activation = 'relu')) # from 512 to 256\n",
    "#model.add(Dropout(0.2)) #from 0.5 dropout to 0.2\n",
    "\n",
    "# 2nd densely-connected layer\n",
    "model.add(Dense(128, activation = 'sigmoid')) # from 256 to 128\n",
    "#model.add(Dropout(0.2)) #from 0.5 dropout to 0.2\n",
    "\n",
    "# 3rd densely-connected layer\n",
    "#model.add(Dense(64, activation = 'relu')\n",
    "#model.add(Dropout(0.2)) #from 0.5 dropout to 0.2\n",
    "\n",
    "# Final dense layer w/ 3 neurons for the 3 categories.\n",
    "model.add(Dense(1, activation = 'sigmoid'))\n",
    "\n",
    "# Compile model\n",
    "model.compile(loss = 'binary_crossentropy',\n",
    "                    optimizer = 'adam',\n",
    "                    metrics=['acc'])\n",
    "\n",
    "# Fit model on training data\n",
    "# history = model.fit_generator(train_generator,steps_per_epoch=train_steps, epochs=20,\n",
    "#                               validation_data=validation_generator,validation_steps=validation_steps)"
   ]
  },
  {
   "cell_type": "markdown",
   "metadata": {},
   "source": [
    "### Fitting the model"
   ]
  },
  {
   "cell_type": "code",
   "execution_count": 20,
   "metadata": {},
   "outputs": [
    {
     "name": "stdout",
     "output_type": "stream",
     "text": [
      "Epoch 1/20\n",
      "156/156 [==============================] - 1819s 12s/step - loss: 0.6292 - acc: 0.6530\n",
      "468/468 [==============================] - 4321s 9s/step - loss: 0.6771 - acc: 0.5719 - val_loss: 0.6292 - val_acc: 0.6530\n",
      "Epoch 2/20\n",
      "156/156 [==============================] - 1258s 8s/step - loss: 0.6078 - acc: 0.6612\n",
      "468/468 [==============================] - 3617s 8s/step - loss: 0.6245 - acc: 0.6551 - val_loss: 0.6078 - val_acc: 0.6612\n",
      "Epoch 3/20\n",
      "156/156 [==============================] - 842s 5s/step - loss: 0.5576 - acc: 0.7200\n",
      "468/468 [==============================] - 3142s 7s/step - loss: 0.5905 - acc: 0.6872 - val_loss: 0.5576 - val_acc: 0.7200\n",
      "Epoch 4/20\n",
      "156/156 [==============================] - 1613s 10s/step - loss: 0.5479 - acc: 0.7184\n",
      "468/468 [==============================] - 3719s 8s/step - loss: 0.5640 - acc: 0.7090 - val_loss: 0.5479 - val_acc: 0.7184\n",
      "Epoch 5/20\n",
      "156/156 [==============================] - 2265s 15s/step - loss: 0.5422 - acc: 0.7270\n",
      "468/468 [==============================] - 6336s 14s/step - loss: 0.5510 - acc: 0.7201 - val_loss: 0.5422 - val_acc: 0.7270\n",
      "Epoch 6/20\n",
      "156/156 [==============================] - 740s 5s/step - loss: 0.5159 - acc: 0.7465\n",
      "468/468 [==============================] - 2756s 6s/step - loss: 0.5342 - acc: 0.7318 - val_loss: 0.5159 - val_acc: 0.7465\n",
      "Epoch 7/20\n",
      "156/156 [==============================] - 757s 5s/step - loss: 0.5486 - acc: 0.7260\n",
      "468/468 [==============================] - 2757s 6s/step - loss: 0.5271 - acc: 0.7407 - val_loss: 0.5486 - val_acc: 0.7260\n",
      "Epoch 8/20\n",
      "156/156 [==============================] - 752s 5s/step - loss: 0.4983 - acc: 0.7585\n",
      "468/468 [==============================] - 2717s 6s/step - loss: 0.5213 - acc: 0.7446 - val_loss: 0.4983 - val_acc: 0.7585\n",
      "Epoch 9/20\n",
      "156/156 [==============================] - 743s 5s/step - loss: 0.4968 - acc: 0.7652\n",
      "468/468 [==============================] - 2701s 6s/step - loss: 0.5237 - acc: 0.7441 - val_loss: 0.4968 - val_acc: 0.7652\n",
      "Epoch 10/20\n",
      "156/156 [==============================] - 751s 5s/step - loss: 0.4946 - acc: 0.7652\n",
      "468/468 [==============================] - 2726s 6s/step - loss: 0.5055 - acc: 0.7520 - val_loss: 0.4946 - val_acc: 0.7652\n",
      "Epoch 11/20\n",
      "156/156 [==============================] - 808s 5s/step - loss: 0.5011 - acc: 0.7617\n",
      "468/468 [==============================] - 2809s 6s/step - loss: 0.5017 - acc: 0.7559 - val_loss: 0.5011 - val_acc: 0.7617\n",
      "Epoch 12/20\n",
      "156/156 [==============================] - 758s 5s/step - loss: 0.4882 - acc: 0.7656\n",
      "468/468 [==============================] - 2762s 6s/step - loss: 0.5060 - acc: 0.7513 - val_loss: 0.4882 - val_acc: 0.7656\n",
      "Epoch 13/20\n",
      "156/156 [==============================] - 751s 5s/step - loss: 0.4829 - acc: 0.7740\n",
      "468/468 [==============================] - 2718s 6s/step - loss: 0.4895 - acc: 0.7644 - val_loss: 0.4829 - val_acc: 0.7740\n",
      "Epoch 14/20\n",
      "156/156 [==============================] - 744s 5s/step - loss: 0.4952 - acc: 0.7593\n",
      "468/468 [==============================] - 2709s 6s/step - loss: 0.4894 - acc: 0.7642 - val_loss: 0.4952 - val_acc: 0.7593\n",
      "Epoch 15/20\n",
      "156/156 [==============================] - 753s 5s/step - loss: 0.5180 - acc: 0.7431\n",
      "468/468 [==============================] - 2712s 6s/step - loss: 0.4880 - acc: 0.7597 - val_loss: 0.5180 - val_acc: 0.7431\n",
      "Epoch 16/20\n",
      "156/156 [==============================] - 759s 5s/step - loss: 0.4924 - acc: 0.7607\n",
      "468/468 [==============================] - 2715s 6s/step - loss: 0.4754 - acc: 0.7688 - val_loss: 0.4924 - val_acc: 0.7607\n",
      "Epoch 17/20\n",
      "156/156 [==============================] - 861s 6s/step - loss: 0.4829 - acc: 0.7698\n",
      "468/468 [==============================] - 2923s 6s/step - loss: 0.4812 - acc: 0.7666 - val_loss: 0.4829 - val_acc: 0.7698\n",
      "Epoch 18/20\n",
      "156/156 [==============================] - 737s 5s/step - loss: 0.4858 - acc: 0.7656\n",
      "468/468 [==============================] - 2738s 6s/step - loss: 0.4748 - acc: 0.7717 - val_loss: 0.4858 - val_acc: 0.7656\n",
      "Epoch 19/20\n",
      "156/156 [==============================] - 762s 5s/step - loss: 0.4716 - acc: 0.7700\n",
      "468/468 [==============================] - 2752s 6s/step - loss: 0.4748 - acc: 0.7742 - val_loss: 0.4716 - val_acc: 0.7700\n",
      "Epoch 20/20\n",
      "156/156 [==============================] - 1640s 11s/step - loss: 0.4811 - acc: 0.7690\n",
      "468/468 [==============================] - 3834s 8s/step - loss: 0.4665 - acc: 0.7781 - val_loss: 0.4811 - val_acc: 0.7690\n"
     ]
    }
   ],
   "source": [
    "history = model.fit_generator(train_gen,\n",
    "                          validation_data = val_gen,\n",
    "                          epochs = 20,\n",
    "                          verbose = 1)"
   ]
  },
  {
   "cell_type": "code",
   "execution_count": 21,
   "metadata": {},
   "outputs": [
    {
     "name": "stdout",
     "output_type": "stream",
     "text": [
      "_________________________________________________________________\n",
      "Layer (type)                 Output Shape              Param #   \n",
      "=================================================================\n",
      "conv2d_4 (Conv2D)            (None, 256, 256, 32)      896       \n",
      "_________________________________________________________________\n",
      "max_pooling2d_5 (MaxPooling2 (None, 85, 85, 32)        0         \n",
      "_________________________________________________________________\n",
      "conv2d_5 (Conv2D)            (None, 85, 85, 64)        18496     \n",
      "_________________________________________________________________\n",
      "max_pooling2d_6 (MaxPooling2 (None, 28, 28, 64)        0         \n",
      "_________________________________________________________________\n",
      "conv2d_6 (Conv2D)            (None, 28, 28, 128)       73856     \n",
      "_________________________________________________________________\n",
      "max_pooling2d_7 (MaxPooling2 (None, 9, 9, 128)         0         \n",
      "_________________________________________________________________\n",
      "conv2d_7 (Conv2D)            (None, 9, 9, 256)         295168    \n",
      "_________________________________________________________________\n",
      "max_pooling2d_8 (MaxPooling2 (None, 3, 3, 256)         0         \n",
      "_________________________________________________________________\n",
      "max_pooling2d_9 (MaxPooling2 (None, 1, 1, 256)         0         \n",
      "_________________________________________________________________\n",
      "flatten_1 (Flatten)          (None, 256)               0         \n",
      "_________________________________________________________________\n",
      "dense_18 (Dense)             (None, 256)               65792     \n",
      "_________________________________________________________________\n",
      "dense_19 (Dense)             (None, 128)               32896     \n",
      "_________________________________________________________________\n",
      "dense_20 (Dense)             (None, 1)                 129       \n",
      "=================================================================\n",
      "Total params: 487,233\n",
      "Trainable params: 487,233\n",
      "Non-trainable params: 0\n",
      "_________________________________________________________________\n"
     ]
    }
   ],
   "source": [
    "model.summary()"
   ]
  },
  {
   "cell_type": "code",
   "execution_count": 37,
   "metadata": {},
   "outputs": [
    {
     "name": "stdout",
     "output_type": "stream",
     "text": [
      "156/156 [==============================] - ETA: 20:4 - ETA: 18:2 - ETA: 17:3 - ETA: 17:0 - ETA: 15:4 - ETA: 15:5 - ETA: 15:3 - ETA: 15:4 - ETA: 15:4 - ETA: 15:4 - ETA: 15:5 - ETA: 15:5 - ETA: 15:4 - ETA: 15:3 - ETA: 15:2 - ETA: 15:0 - ETA: 14:4 - ETA: 14:5 - ETA: 14:4 - ETA: 14:3 - ETA: 14:1 - ETA: 14:0 - ETA: 14:0 - ETA: 13:5 - ETA: 13:5 - ETA: 15:1 - ETA: 15:1 - ETA: 15:0 - ETA: 14:5 - ETA: 14:4 - ETA: 14:4 - ETA: 14:3 - ETA: 14:2 - ETA: 14:2 - ETA: 14:2 - ETA: 14:0 - ETA: 13:5 - ETA: 13:4 - ETA: 13:4 - ETA: 13:3 - ETA: 13:2 - ETA: 13:1 - ETA: 13:0 - ETA: 13:0 - ETA: 12:4 - ETA: 12:3 - ETA: 12:3 - ETA: 12:2 - ETA: 12:1 - ETA: 12:0 - ETA: 11:5 - ETA: 11:4 - ETA: 11:3 - ETA: 11:2 - ETA: 11:3 - ETA: 11:3 - ETA: 12:2 - ETA: 12:0 - ETA: 11:5 - ETA: 11:4 - ETA: 11:3 - ETA: 11:2 - ETA: 11:2 - ETA: 11:1 - ETA: 11:0 - ETA: 10:5 - ETA: 10:4 - ETA: 10:3 - ETA: 10:2 - ETA: 10:2 - ETA: 10:0 - ETA: 10:0 - ETA: 9:5 - ETA: 9: - ETA: 9: - ETA: 9: - ETA: 9: - ETA: 9: - ETA: 8: - ETA: 8: - ETA: 8: - ETA: 8: - ETA: 8: - ETA: 8: - ETA: 8: - ETA: 7: - ETA: 7: - ETA: 7: - ETA: 7: - ETA: 7: - ETA: 7: - ETA: 7: - ETA: 7: - ETA: 6: - ETA: 6: - ETA: 6: - ETA: 6: - ETA: 6: - ETA: 6: - ETA: 6: - ETA: 6: - ETA: 5: - ETA: 5: - ETA: 5: - ETA: 5: - ETA: 5: - ETA: 5: - ETA: 5: - ETA: 5: - ETA: 5: - ETA: 4: - ETA: 4: - ETA: 4: - ETA: 4: - ETA: 4: - ETA: 4: - ETA: 4: - ETA: 4: - ETA: 3: - ETA: 3: - ETA: 3: - ETA: 3: - ETA: 3: - ETA: 3: - ETA: 3: - ETA: 3: - ETA: 3: - ETA: 2: - ETA: 2: - ETA: 2: - ETA: 2: - ETA: 2: - ETA: 2: - ETA: 2: - ETA: 2: - ETA: 2: - ETA: 1: - ETA: 1: - ETA: 1: - ETA: 1: - ETA: 1: - ETA: 1: - ETA: 1: - ETA: 1: - ETA: 1: - ETA: 1: - ETA: 57s - ETA: 50 - ETA: 44 - ETA: 37 - ETA: 31 - ETA: 25 - ETA: 18 - ETA: 12 - ETA: 6 - 972s 6s/step\n"
     ]
    }
   ],
   "source": [
    "preds = model.predict_generator(val_gen,\n",
    "                      verbose=1)"
   ]
  },
  {
   "cell_type": "code",
   "execution_count": 38,
   "metadata": {},
   "outputs": [
    {
     "data": {
      "text/plain": [
       "array([[0.2513621 ],\n",
       "       [0.56623614],\n",
       "       [0.28259116],\n",
       "       ...,\n",
       "       [0.06382871],\n",
       "       [0.38502318],\n",
       "       [0.31212708]], dtype=float32)"
      ]
     },
     "execution_count": 38,
     "metadata": {},
     "output_type": "execute_result"
    }
   ],
   "source": [
    "preds"
   ]
  },
  {
   "cell_type": "code",
   "execution_count": 41,
   "metadata": {},
   "outputs": [],
   "source": [
    "predicted_classes = np.where(preds>0.5, 1, 0)"
   ]
  },
  {
   "cell_type": "code",
   "execution_count": 42,
   "metadata": {},
   "outputs": [
    {
     "name": "stdout",
     "output_type": "stream",
     "text": [
      "Confusion Matrix\n",
      "[[1884  976]\n",
      " [1383  739]]\n"
     ]
    }
   ],
   "source": [
    "print('Confusion Matrix')\n",
    "cm = metrics.confusion_matrix(val_gen.classes, predicted_classes)\n",
    "print(cm)"
   ]
  },
  {
   "cell_type": "code",
   "execution_count": null,
   "metadata": {},
   "outputs": [],
   "source": [
    "# so in my confusion matrix the top right is true negatives, top left is false positives\n",
    "# btoom left is false negatives bottom right is true positives\n",
    "# curtosy of https://stackoverflow.com/questions/51282098/plotting-confusion-matrix-for-an-image-classification-model"
   ]
  },
  {
   "cell_type": "code",
   "execution_count": 43,
   "metadata": {},
   "outputs": [
    {
     "name": "stdout",
     "output_type": "stream",
     "text": [
      "Classification Report\n",
      "              precision    recall  f1-score   support\n",
      "\n",
      "           0       0.58      0.66      0.61      2860\n",
      "           1       0.43      0.35      0.39      2122\n",
      "\n",
      "    accuracy                           0.53      4982\n",
      "   macro avg       0.50      0.50      0.50      4982\n",
      "weighted avg       0.51      0.53      0.52      4982\n",
      "\n"
     ]
    }
   ],
   "source": [
    "print('Classification Report')\n",
    "print(metrics.classification_report(val_gen.classes, predicted_classes))"
   ]
  },
  {
   "cell_type": "code",
   "execution_count": 44,
   "metadata": {},
   "outputs": [],
   "source": [
    "model.save_weights('model_weights.h5')"
   ]
  },
  {
   "cell_type": "code",
   "execution_count": 45,
   "metadata": {},
   "outputs": [],
   "source": [
    "model.save('model_keras.h5') # saved my mdoel!"
   ]
  },
  {
   "cell_type": "code",
   "execution_count": 5,
   "metadata": {},
   "outputs": [],
   "source": [
    "# from keras.utils import plot_model\n",
    "# plot_model(loaded_model, to_file='model.jpg')\n",
    "# pip installed pydot but need to re run the model i believe"
   ]
  },
  {
   "cell_type": "code",
   "execution_count": 3,
   "metadata": {
    "scrolled": true
   },
   "outputs": [
    {
     "name": "stdout",
     "output_type": "stream",
     "text": [
      "WARNING:tensorflow:From C:\\Users\\Vera\\Anaconda3\\lib\\site-packages\\tensorflow\\python\\ops\\resource_variable_ops.py:435: colocate_with (from tensorflow.python.framework.ops) is deprecated and will be removed in a future version.\n",
      "Instructions for updating:\n",
      "Colocations handled automatically by placer.\n",
      "WARNING:tensorflow:From C:\\Users\\Vera\\Anaconda3\\lib\\site-packages\\tensorflow\\python\\ops\\math_ops.py:3066: to_int32 (from tensorflow.python.ops.math_ops) is deprecated and will be removed in a future version.\n",
      "Instructions for updating:\n",
      "Use tf.cast instead.\n"
     ]
    }
   ],
   "source": [
    "import tensorflow as tf \n",
    "loaded_model = tf.keras.models.load_model('./model_keras.h5')"
   ]
  },
  {
   "cell_type": "code",
   "execution_count": 4,
   "metadata": {},
   "outputs": [
    {
     "name": "stdout",
     "output_type": "stream",
     "text": [
      "_________________________________________________________________\n",
      "Layer (type)                 Output Shape              Param #   \n",
      "=================================================================\n",
      "conv2d_4 (Conv2D)            (None, 256, 256, 32)      896       \n",
      "_________________________________________________________________\n",
      "max_pooling2d_5 (MaxPooling2 (None, 85, 85, 32)        0         \n",
      "_________________________________________________________________\n",
      "conv2d_5 (Conv2D)            (None, 85, 85, 64)        18496     \n",
      "_________________________________________________________________\n",
      "max_pooling2d_6 (MaxPooling2 (None, 28, 28, 64)        0         \n",
      "_________________________________________________________________\n",
      "conv2d_6 (Conv2D)            (None, 28, 28, 128)       73856     \n",
      "_________________________________________________________________\n",
      "max_pooling2d_7 (MaxPooling2 (None, 9, 9, 128)         0         \n",
      "_________________________________________________________________\n",
      "conv2d_7 (Conv2D)            (None, 9, 9, 256)         295168    \n",
      "_________________________________________________________________\n",
      "max_pooling2d_8 (MaxPooling2 (None, 3, 3, 256)         0         \n",
      "_________________________________________________________________\n",
      "max_pooling2d_9 (MaxPooling2 (None, 1, 1, 256)         0         \n",
      "_________________________________________________________________\n",
      "flatten_1 (Flatten)          (None, 256)               0         \n",
      "_________________________________________________________________\n",
      "dense_18 (Dense)             (None, 256)               65792     \n",
      "_________________________________________________________________\n",
      "dense_19 (Dense)             (None, 128)               32896     \n",
      "_________________________________________________________________\n",
      "dense_20 (Dense)             (None, 1)                 129       \n",
      "=================================================================\n",
      "Total params: 487,233\n",
      "Trainable params: 487,233\n",
      "Non-trainable params: 0\n",
      "_________________________________________________________________\n",
      "None\n"
     ]
    }
   ],
   "source": [
    "print(loaded_model.summary())"
   ]
  },
  {
   "cell_type": "code",
   "execution_count": 6,
   "metadata": {},
   "outputs": [
    {
     "name": "stdout",
     "output_type": "stream",
     "text": [
      "156/156 [==============================] - 931s 6s/step\n"
     ]
    }
   ],
   "source": [
    "preds = loaded_model.predict_generator(val_gen,\n",
    "                      verbose=1)"
   ]
  },
  {
   "cell_type": "code",
   "execution_count": 7,
   "metadata": {},
   "outputs": [
    {
     "data": {
      "text/plain": [
       "array([[0.39944258],\n",
       "       [0.15056804],\n",
       "       [0.09813249],\n",
       "       ...,\n",
       "       [0.20486543],\n",
       "       [0.34118947],\n",
       "       [0.9028821 ]], dtype=float32)"
      ]
     },
     "execution_count": 7,
     "metadata": {},
     "output_type": "execute_result"
    }
   ],
   "source": [
    "preds"
   ]
  },
  {
   "cell_type": "code",
   "execution_count": 8,
   "metadata": {},
   "outputs": [],
   "source": [
    "predicted_classes2 = np.where(preds>0.5, 1, 0)"
   ]
  },
  {
   "cell_type": "code",
   "execution_count": 9,
   "metadata": {},
   "outputs": [
    {
     "name": "stdout",
     "output_type": "stream",
     "text": [
      "Confusion Matrix\n",
      "[[1896  964]\n",
      " [1383  739]]\n"
     ]
    }
   ],
   "source": [
    "print('Confusion Matrix')\n",
    "cm2 = metrics.confusion_matrix(val_gen.classes, predicted_classes2)\n",
    "print(cm2)"
   ]
  },
  {
   "cell_type": "code",
   "execution_count": 6,
   "metadata": {},
   "outputs": [],
   "source": [
    "# from keras.utils import plot_model\n",
    "# plot_model(loaded_model, to_file='model.png')"
   ]
  },
  {
   "cell_type": "code",
   "execution_count": 11,
   "metadata": {},
   "outputs": [
    {
     "name": "stdout",
     "output_type": "stream",
     "text": [
      "Epoch 1/3\n",
      "156/156 [==============================] - 847s 5s/step - loss: 0.4468 - acc: 0.7933\n",
      "468/468 [==============================] - 3437s 7s/step - loss: 0.4481 - acc: 0.7902 - val_loss: 0.4468 - val_acc: 0.7933\n",
      "Epoch 2/3\n",
      "156/156 [==============================] - 747s 5s/step - loss: 0.4471 - acc: 0.7945\n",
      "468/468 [==============================] - 2781s 6s/step - loss: 0.4463 - acc: 0.7886 - val_loss: 0.4471 - val_acc: 0.7945\n",
      "Epoch 3/3\n",
      "156/156 [==============================] - 785s 5s/step - loss: 0.4457 - acc: 0.7888\n",
      "468/468 [==============================] - 2880s 6s/step - loss: 0.4429 - acc: 0.7886 - val_loss: 0.4457 - val_acc: 0.7888\n"
     ]
    }
   ],
   "source": [
    "history = loaded_model.fit_generator(train_gen,\n",
    "                          validation_data = val_gen,\n",
    "                          epochs = 3,\n",
    "                          verbose = 1)"
   ]
  },
  {
   "cell_type": "code",
   "execution_count": 12,
   "metadata": {
    "scrolled": true
   },
   "outputs": [
    {
     "data": {
      "image/png": "[encoded data removed]",
      "text/plain": [
       "<Figure size 864x576 with 1 Axes>"
      ]
     },
     "metadata": {
      "image/png": {
       "height": 511,
       "width": 743
      },
      "needs_background": "light"
     },
     "output_type": "display_data"
    }
   ],
   "source": [
    "# Check out our train loss and test loss over epochs.\n",
    "train_loss = history.history['loss']\n",
    "test_loss = history.history['val_loss']\n",
    "\n",
    "# Set figure size.\n",
    "plt.figure(figsize=(12, 8))\n",
    "\n",
    "# Generate line plot of training, testing loss over epochs.\n",
    "plt.plot(train_loss, label='Training Loss', color='#185fad')\n",
    "plt.plot(test_loss, label='Testing Loss', color='orange')\n",
    "\n",
    "# Set title\n",
    "plt.title('Training and Testing Loss by Epoch', fontsize = 25)\n",
    "plt.xlabel('Epoch', fontsize = 18)\n",
    "plt.ylabel('Categorical Crossentropy', fontsize = 18)\n",
    "plt.xticks(np.arange(10), np.arange(10))\n",
    "\n",
    "plt.legend(fontsize = 18);"
   ]
  },
  {
   "cell_type": "code",
   "execution_count": 13,
   "metadata": {},
   "outputs": [
    {
     "data": {
      "image/png": "[encoded data removed]",
      "text/plain": [
       "<Figure size 432x288 with 1 Axes>"
      ]
     },
     "metadata": {
      "image/png": {
       "height": 277,
       "width": 398
      },
      "needs_background": "light"
     },
     "output_type": "display_data"
    }
   ],
   "source": [
    "# Plot training & validation accuracy values\n",
    "plt.plot(history.history['acc'])\n",
    "plt.plot(history.history['val_acc'])\n",
    "plt.title('Model accuracy')\n",
    "plt.ylabel('Accuracy')\n",
    "plt.xlabel('Epoch')\n",
    "plt.legend(['Train', 'Test'], loc='upper left')\n",
    "plt.show()"
   ]
  },
  {
   "cell_type": "code",
   "execution_count": 14,
   "metadata": {},
   "outputs": [
    {
     "data": {
      "image/png": "[encoded data removed]",
      "text/plain": [
       "<Figure size 432x288 with 1 Axes>"
      ]
     },
     "metadata": {
      "image/png": {
       "height": 277,
       "width": 398
      },
      "needs_background": "light"
     },
     "output_type": "display_data"
    }
   ],
   "source": [
    "# Plot training & validation loss values\n",
    "plt.plot(history.history['loss'])\n",
    "plt.plot(history.history['val_loss'])\n",
    "plt.title('Model loss')\n",
    "plt.ylabel('Loss')\n",
    "plt.xlabel('Epoch')\n",
    "plt.legend(['Train', 'Test'], loc='upper left')\n",
    "plt.show()"
   ]
  },
  {
   "cell_type": "code",
   "execution_count": 24,
   "metadata": {},
   "outputs": [],
   "source": [
    "#creating predictions"
   ]
  },
  {
   "cell_type": "code",
   "execution_count": 22,
   "metadata": {},
   "outputs": [
    {
     "name": "stdout",
     "output_type": "stream",
     "text": [
      "156/156 [==============================] - 869s 6s/step\n"
     ]
    }
   ],
   "source": [
    "preds = loaded_model.predict_generator(val_gen,\n",
    "                      verbose=1)"
   ]
  },
  {
   "cell_type": "code",
   "execution_count": 23,
   "metadata": {},
   "outputs": [
    {
     "name": "stdout",
     "output_type": "stream",
     "text": [
      "156/156 [==============================] - 764s 5s/step\n"
     ]
    }
   ],
   "source": [
    "predict = loaded_model.predict(val_gen,\n",
    "                      verbose=1)"
   ]
  },
  {
   "cell_type": "code",
   "execution_count": 25,
   "metadata": {},
   "outputs": [],
   "source": [
    "predicted_classes2 = np.where(preds>0.5, 1, 0)"
   ]
  },
  {
   "cell_type": "code",
   "execution_count": 26,
   "metadata": {},
   "outputs": [
    {
     "name": "stdout",
     "output_type": "stream",
     "text": [
      "Confusion Matrix\n",
      "[[1866  994]\n",
      " [1355  767]]\n"
     ]
    }
   ],
   "source": [
    "print('Confusion Matrix')\n",
    "cm2 = metrics.confusion_matrix(val_gen.classes, predicted_classes2)\n",
    "print(cm2)"
   ]
  },
  {
   "cell_type": "code",
   "execution_count": 28,
   "metadata": {},
   "outputs": [],
   "source": [
    "df = pd.DataFrame(preds, columns=['Percentages'])\n",
    "df['filename'] = val_gen.filenames\n",
    "df['true classes'] = val_gen.classes\n",
    "df['predicted classes'] = predicted_classes2"
   ]
  },
  {
   "cell_type": "code",
   "execution_count": 29,
   "metadata": {},
   "outputs": [
    {
     "data": {
      "text/html": [
       "<div>\n",
       "<style scoped>\n",
       "    .dataframe tbody tr th:only-of-type {\n",
       "        vertical-align: middle;\n",
       "    }\n",
       "\n",
       "    .dataframe tbody tr th {\n",
       "        vertical-align: top;\n",
       "    }\n",
       "\n",
       "    .dataframe thead th {\n",
       "        text-align: right;\n",
       "    }\n",
       "</style>\n",
       "<table border=\"1\" class=\"dataframe\">\n",
       "  <thead>\n",
       "    <tr style=\"text-align: right;\">\n",
       "      <th></th>\n",
       "      <th>Percentages</th>\n",
       "      <th>filename</th>\n",
       "      <th>true classes</th>\n",
       "      <th>predicted classes</th>\n",
       "    </tr>\n",
       "  </thead>\n",
       "  <tbody>\n",
       "    <tr>\n",
       "      <th>0</th>\n",
       "      <td>0.125125</td>\n",
       "      <td>84512.jpg</td>\n",
       "      <td>1</td>\n",
       "      <td>0</td>\n",
       "    </tr>\n",
       "    <tr>\n",
       "      <th>1</th>\n",
       "      <td>0.223655</td>\n",
       "      <td>99442.jpg</td>\n",
       "      <td>1</td>\n",
       "      <td>0</td>\n",
       "    </tr>\n",
       "    <tr>\n",
       "      <th>2</th>\n",
       "      <td>0.438450</td>\n",
       "      <td>75956.jpg</td>\n",
       "      <td>1</td>\n",
       "      <td>0</td>\n",
       "    </tr>\n",
       "    <tr>\n",
       "      <th>3</th>\n",
       "      <td>0.166306</td>\n",
       "      <td>7486.jpg</td>\n",
       "      <td>1</td>\n",
       "      <td>0</td>\n",
       "    </tr>\n",
       "    <tr>\n",
       "      <th>4</th>\n",
       "      <td>0.482881</td>\n",
       "      <td>35766.jpg</td>\n",
       "      <td>1</td>\n",
       "      <td>0</td>\n",
       "    </tr>\n",
       "  </tbody>\n",
       "</table>\n",
       "</div>"
      ],
      "text/plain": [
       "   Percentages   filename  true classes  predicted classes\n",
       "0     0.125125  84512.jpg             1                  0\n",
       "1     0.223655  99442.jpg             1                  0\n",
       "2     0.438450  75956.jpg             1                  0\n",
       "3     0.166306   7486.jpg             1                  0\n",
       "4     0.482881  35766.jpg             1                  0"
      ]
     },
     "execution_count": 29,
     "metadata": {},
     "output_type": "execute_result"
    }
   ],
   "source": [
    "df.head()"
   ]
  },
  {
   "cell_type": "code",
   "execution_count": 44,
   "metadata": {},
   "outputs": [
    {
     "data": {
      "text/html": [
       "<div>\n",
       "<style scoped>\n",
       "    .dataframe tbody tr th:only-of-type {\n",
       "        vertical-align: middle;\n",
       "    }\n",
       "\n",
       "    .dataframe tbody tr th {\n",
       "        vertical-align: top;\n",
       "    }\n",
       "\n",
       "    .dataframe thead th {\n",
       "        text-align: right;\n",
       "    }\n",
       "</style>\n",
       "<table border=\"1\" class=\"dataframe\">\n",
       "  <thead>\n",
       "    <tr style=\"text-align: right;\">\n",
       "      <th></th>\n",
       "      <th>Percentages</th>\n",
       "      <th>filename</th>\n",
       "      <th>true classes</th>\n",
       "      <th>predicted classes</th>\n",
       "    </tr>\n",
       "  </thead>\n",
       "  <tbody>\n",
       "    <tr>\n",
       "      <th>4350</th>\n",
       "      <td>0.014308</td>\n",
       "      <td>12906.jpg</td>\n",
       "      <td>1</td>\n",
       "      <td>0</td>\n",
       "    </tr>\n",
       "    <tr>\n",
       "      <th>2676</th>\n",
       "      <td>0.014256</td>\n",
       "      <td>12985.jpg</td>\n",
       "      <td>0</td>\n",
       "      <td>0</td>\n",
       "    </tr>\n",
       "    <tr>\n",
       "      <th>4403</th>\n",
       "      <td>0.014180</td>\n",
       "      <td>67478.jpg</td>\n",
       "      <td>1</td>\n",
       "      <td>0</td>\n",
       "    </tr>\n",
       "    <tr>\n",
       "      <th>4558</th>\n",
       "      <td>0.014177</td>\n",
       "      <td>66244.jpg</td>\n",
       "      <td>1</td>\n",
       "      <td>0</td>\n",
       "    </tr>\n",
       "    <tr>\n",
       "      <th>2195</th>\n",
       "      <td>0.014168</td>\n",
       "      <td>57702.jpg</td>\n",
       "      <td>1</td>\n",
       "      <td>0</td>\n",
       "    </tr>\n",
       "    <tr>\n",
       "      <th>4097</th>\n",
       "      <td>0.014138</td>\n",
       "      <td>60198.jpg</td>\n",
       "      <td>0</td>\n",
       "      <td>0</td>\n",
       "    </tr>\n",
       "    <tr>\n",
       "      <th>4092</th>\n",
       "      <td>0.014137</td>\n",
       "      <td>27315.jpg</td>\n",
       "      <td>0</td>\n",
       "      <td>0</td>\n",
       "    </tr>\n",
       "    <tr>\n",
       "      <th>2300</th>\n",
       "      <td>0.014134</td>\n",
       "      <td>53885.jpg</td>\n",
       "      <td>1</td>\n",
       "      <td>0</td>\n",
       "    </tr>\n",
       "    <tr>\n",
       "      <th>4668</th>\n",
       "      <td>0.014118</td>\n",
       "      <td>84513.jpg</td>\n",
       "      <td>0</td>\n",
       "      <td>0</td>\n",
       "    </tr>\n",
       "    <tr>\n",
       "      <th>346</th>\n",
       "      <td>0.014107</td>\n",
       "      <td>3266.jpg</td>\n",
       "      <td>0</td>\n",
       "      <td>0</td>\n",
       "    </tr>\n",
       "    <tr>\n",
       "      <th>2205</th>\n",
       "      <td>0.014068</td>\n",
       "      <td>64376.jpg</td>\n",
       "      <td>0</td>\n",
       "      <td>0</td>\n",
       "    </tr>\n",
       "    <tr>\n",
       "      <th>2945</th>\n",
       "      <td>0.013952</td>\n",
       "      <td>74242.jpg</td>\n",
       "      <td>0</td>\n",
       "      <td>0</td>\n",
       "    </tr>\n",
       "    <tr>\n",
       "      <th>3965</th>\n",
       "      <td>0.013944</td>\n",
       "      <td>54380.jpg</td>\n",
       "      <td>0</td>\n",
       "      <td>0</td>\n",
       "    </tr>\n",
       "    <tr>\n",
       "      <th>1481</th>\n",
       "      <td>0.013919</td>\n",
       "      <td>67796.jpg</td>\n",
       "      <td>0</td>\n",
       "      <td>0</td>\n",
       "    </tr>\n",
       "    <tr>\n",
       "      <th>1639</th>\n",
       "      <td>0.013910</td>\n",
       "      <td>88784.jpg</td>\n",
       "      <td>1</td>\n",
       "      <td>0</td>\n",
       "    </tr>\n",
       "    <tr>\n",
       "      <th>822</th>\n",
       "      <td>0.013896</td>\n",
       "      <td>94764.jpg</td>\n",
       "      <td>0</td>\n",
       "      <td>0</td>\n",
       "    </tr>\n",
       "    <tr>\n",
       "      <th>1522</th>\n",
       "      <td>0.013887</td>\n",
       "      <td>97806.jpg</td>\n",
       "      <td>1</td>\n",
       "      <td>0</td>\n",
       "    </tr>\n",
       "    <tr>\n",
       "      <th>4520</th>\n",
       "      <td>0.013874</td>\n",
       "      <td>15794.jpg</td>\n",
       "      <td>0</td>\n",
       "      <td>0</td>\n",
       "    </tr>\n",
       "    <tr>\n",
       "      <th>2495</th>\n",
       "      <td>0.013849</td>\n",
       "      <td>17393.jpg</td>\n",
       "      <td>1</td>\n",
       "      <td>0</td>\n",
       "    </tr>\n",
       "    <tr>\n",
       "      <th>3273</th>\n",
       "      <td>0.013826</td>\n",
       "      <td>68432.jpg</td>\n",
       "      <td>0</td>\n",
       "      <td>0</td>\n",
       "    </tr>\n",
       "  </tbody>\n",
       "</table>\n",
       "</div>"
      ],
      "text/plain": [
       "      Percentages   filename  true classes  predicted classes\n",
       "4350     0.014308  12906.jpg             1                  0\n",
       "2676     0.014256  12985.jpg             0                  0\n",
       "4403     0.014180  67478.jpg             1                  0\n",
       "4558     0.014177  66244.jpg             1                  0\n",
       "2195     0.014168  57702.jpg             1                  0\n",
       "4097     0.014138  60198.jpg             0                  0\n",
       "4092     0.014137  27315.jpg             0                  0\n",
       "2300     0.014134  53885.jpg             1                  0\n",
       "4668     0.014118  84513.jpg             0                  0\n",
       "346      0.014107   3266.jpg             0                  0\n",
       "2205     0.014068  64376.jpg             0                  0\n",
       "2945     0.013952  74242.jpg             0                  0\n",
       "3965     0.013944  54380.jpg             0                  0\n",
       "1481     0.013919  67796.jpg             0                  0\n",
       "1639     0.013910  88784.jpg             1                  0\n",
       "822      0.013896  94764.jpg             0                  0\n",
       "1522     0.013887  97806.jpg             1                  0\n",
       "4520     0.013874  15794.jpg             0                  0\n",
       "2495     0.013849  17393.jpg             1                  0\n",
       "3273     0.013826  68432.jpg             0                  0"
      ]
     },
     "execution_count": 44,
     "metadata": {},
     "output_type": "execute_result"
    }
   ],
   "source": [
    "df.sort_values('Percentages', axis=0, ascending=False).tail(20)"
   ]
  },
  {
   "cell_type": "code",
   "execution_count": 33,
   "metadata": {},
   "outputs": [],
   "source": [
    "#using .loc to identify if famous works for art from the time periods were in the validation and if they were correctly\n",
    "# or incorrectly predicted"
   ]
  },
  {
   "cell_type": "code",
   "execution_count": 32,
   "metadata": {},
   "outputs": [
    {
     "data": {
      "text/html": [
       "<div>\n",
       "<style scoped>\n",
       "    .dataframe tbody tr th:only-of-type {\n",
       "        vertical-align: middle;\n",
       "    }\n",
       "\n",
       "    .dataframe tbody tr th {\n",
       "        vertical-align: top;\n",
       "    }\n",
       "\n",
       "    .dataframe thead th {\n",
       "        text-align: right;\n",
       "    }\n",
       "</style>\n",
       "<table border=\"1\" class=\"dataframe\">\n",
       "  <thead>\n",
       "    <tr style=\"text-align: right;\">\n",
       "      <th></th>\n",
       "      <th>Percentages</th>\n",
       "      <th>filename</th>\n",
       "      <th>true classes</th>\n",
       "      <th>predicted classes</th>\n",
       "    </tr>\n",
       "  </thead>\n",
       "  <tbody>\n",
       "    <tr>\n",
       "      <th>1139</th>\n",
       "      <td>0.69235</td>\n",
       "      <td>81823.jpg</td>\n",
       "      <td>0</td>\n",
       "      <td>1</td>\n",
       "    </tr>\n",
       "  </tbody>\n",
       "</table>\n",
       "</div>"
      ],
      "text/plain": [
       "      Percentages   filename  true classes  predicted classes\n",
       "1139      0.69235  81823.jpg             0                  1"
      ]
     },
     "execution_count": 32,
     "metadata": {},
     "output_type": "execute_result"
    }
   ],
   "source": [
    "df.loc[df['filename'] == '81823.jpg']\n",
    "# Impressionism\n",
    "# Renoir - Dance at Moulin de la Galette"
   ]
  },
  {
   "cell_type": "code",
   "execution_count": 34,
   "metadata": {},
   "outputs": [
    {
     "data": {
      "text/html": [
       "<div>\n",
       "<style scoped>\n",
       "    .dataframe tbody tr th:only-of-type {\n",
       "        vertical-align: middle;\n",
       "    }\n",
       "\n",
       "    .dataframe tbody tr th {\n",
       "        vertical-align: top;\n",
       "    }\n",
       "\n",
       "    .dataframe thead th {\n",
       "        text-align: right;\n",
       "    }\n",
       "</style>\n",
       "<table border=\"1\" class=\"dataframe\">\n",
       "  <thead>\n",
       "    <tr style=\"text-align: right;\">\n",
       "      <th></th>\n",
       "      <th>Percentages</th>\n",
       "      <th>filename</th>\n",
       "      <th>true classes</th>\n",
       "      <th>predicted classes</th>\n",
       "    </tr>\n",
       "  </thead>\n",
       "  <tbody>\n",
       "    <tr>\n",
       "      <th>2691</th>\n",
       "      <td>0.95847</td>\n",
       "      <td>54404.jpg</td>\n",
       "      <td>0</td>\n",
       "      <td>1</td>\n",
       "    </tr>\n",
       "  </tbody>\n",
       "</table>\n",
       "</div>"
      ],
      "text/plain": [
       "      Percentages   filename  true classes  predicted classes\n",
       "2691      0.95847  54404.jpg             0                  1"
      ]
     },
     "execution_count": 34,
     "metadata": {},
     "output_type": "execute_result"
    }
   ],
   "source": [
    "df.loc[df['filename'] == '54404.jpg']\n",
    "# Impressionism\n",
    "# Renoir - The luncheon of the Boating Party"
   ]
  },
  {
   "cell_type": "code",
   "execution_count": 35,
   "metadata": {},
   "outputs": [
    {
     "data": {
      "text/html": [
       "<div>\n",
       "<style scoped>\n",
       "    .dataframe tbody tr th:only-of-type {\n",
       "        vertical-align: middle;\n",
       "    }\n",
       "\n",
       "    .dataframe tbody tr th {\n",
       "        vertical-align: top;\n",
       "    }\n",
       "\n",
       "    .dataframe thead th {\n",
       "        text-align: right;\n",
       "    }\n",
       "</style>\n",
       "<table border=\"1\" class=\"dataframe\">\n",
       "  <thead>\n",
       "    <tr style=\"text-align: right;\">\n",
       "      <th></th>\n",
       "      <th>Percentages</th>\n",
       "      <th>filename</th>\n",
       "      <th>true classes</th>\n",
       "      <th>predicted classes</th>\n",
       "    </tr>\n",
       "  </thead>\n",
       "  <tbody>\n",
       "    <tr>\n",
       "      <th>1149</th>\n",
       "      <td>0.958642</td>\n",
       "      <td>287.jpg</td>\n",
       "      <td>0</td>\n",
       "      <td>1</td>\n",
       "    </tr>\n",
       "  </tbody>\n",
       "</table>\n",
       "</div>"
      ],
      "text/plain": [
       "      Percentages filename  true classes  predicted classes\n",
       "1149     0.958642  287.jpg             0                  1"
      ]
     },
     "execution_count": 35,
     "metadata": {},
     "output_type": "execute_result"
    }
   ],
   "source": [
    "df.loc[df['filename'] == '287.jpg']\n",
    "# Impressionism\n",
    "# Monet - Water lilies (he has over 250 works of this name)"
   ]
  },
  {
   "cell_type": "code",
   "execution_count": 36,
   "metadata": {},
   "outputs": [
    {
     "data": {
      "text/html": [
       "<div>\n",
       "<style scoped>\n",
       "    .dataframe tbody tr th:only-of-type {\n",
       "        vertical-align: middle;\n",
       "    }\n",
       "\n",
       "    .dataframe tbody tr th {\n",
       "        vertical-align: top;\n",
       "    }\n",
       "\n",
       "    .dataframe thead th {\n",
       "        text-align: right;\n",
       "    }\n",
       "</style>\n",
       "<table border=\"1\" class=\"dataframe\">\n",
       "  <thead>\n",
       "    <tr style=\"text-align: right;\">\n",
       "      <th></th>\n",
       "      <th>Percentages</th>\n",
       "      <th>filename</th>\n",
       "      <th>true classes</th>\n",
       "      <th>predicted classes</th>\n",
       "    </tr>\n",
       "  </thead>\n",
       "  <tbody>\n",
       "    <tr>\n",
       "      <th>1244</th>\n",
       "      <td>0.596689</td>\n",
       "      <td>8396.jpg</td>\n",
       "      <td>0</td>\n",
       "      <td>1</td>\n",
       "    </tr>\n",
       "  </tbody>\n",
       "</table>\n",
       "</div>"
      ],
      "text/plain": [
       "      Percentages  filename  true classes  predicted classes\n",
       "1244     0.596689  8396.jpg             0                  1"
      ]
     },
     "execution_count": 36,
     "metadata": {},
     "output_type": "execute_result"
    }
   ],
   "source": [
    "df.loc[df['filename'] == '8396.jpg']\n",
    "# Monet - Impression, sunrise"
   ]
  },
  {
   "cell_type": "code",
   "execution_count": 37,
   "metadata": {},
   "outputs": [
    {
     "data": {
      "text/html": [
       "<div>\n",
       "<style scoped>\n",
       "    .dataframe tbody tr th:only-of-type {\n",
       "        vertical-align: middle;\n",
       "    }\n",
       "\n",
       "    .dataframe tbody tr th {\n",
       "        vertical-align: top;\n",
       "    }\n",
       "\n",
       "    .dataframe thead th {\n",
       "        text-align: right;\n",
       "    }\n",
       "</style>\n",
       "<table border=\"1\" class=\"dataframe\">\n",
       "  <thead>\n",
       "    <tr style=\"text-align: right;\">\n",
       "      <th></th>\n",
       "      <th>Percentages</th>\n",
       "      <th>filename</th>\n",
       "      <th>true classes</th>\n",
       "      <th>predicted classes</th>\n",
       "    </tr>\n",
       "  </thead>\n",
       "  <tbody>\n",
       "    <tr>\n",
       "      <th>630</th>\n",
       "      <td>0.889462</td>\n",
       "      <td>70336.jpg</td>\n",
       "      <td>1</td>\n",
       "      <td>1</td>\n",
       "    </tr>\n",
       "  </tbody>\n",
       "</table>\n",
       "</div>"
      ],
      "text/plain": [
       "     Percentages   filename  true classes  predicted classes\n",
       "630     0.889462  70336.jpg             1                  1"
      ]
     },
     "execution_count": 37,
     "metadata": {},
     "output_type": "execute_result"
    }
   ],
   "source": [
    "df.loc[df['filename'] == '70336.jpg']\n",
    "# Romanticism\n",
    "# Goya - Saturn Devouring His Son"
   ]
  },
  {
   "cell_type": "code",
   "execution_count": 38,
   "metadata": {},
   "outputs": [
    {
     "data": {
      "text/html": [
       "<div>\n",
       "<style scoped>\n",
       "    .dataframe tbody tr th:only-of-type {\n",
       "        vertical-align: middle;\n",
       "    }\n",
       "\n",
       "    .dataframe tbody tr th {\n",
       "        vertical-align: top;\n",
       "    }\n",
       "\n",
       "    .dataframe thead th {\n",
       "        text-align: right;\n",
       "    }\n",
       "</style>\n",
       "<table border=\"1\" class=\"dataframe\">\n",
       "  <thead>\n",
       "    <tr style=\"text-align: right;\">\n",
       "      <th></th>\n",
       "      <th>Percentages</th>\n",
       "      <th>filename</th>\n",
       "      <th>true classes</th>\n",
       "      <th>predicted classes</th>\n",
       "    </tr>\n",
       "  </thead>\n",
       "  <tbody>\n",
       "    <tr>\n",
       "      <th>317</th>\n",
       "      <td>0.924077</td>\n",
       "      <td>21957.jpg</td>\n",
       "      <td>1</td>\n",
       "      <td>1</td>\n",
       "    </tr>\n",
       "  </tbody>\n",
       "</table>\n",
       "</div>"
      ],
      "text/plain": [
       "     Percentages   filename  true classes  predicted classes\n",
       "317     0.924077  21957.jpg             1                  1"
      ]
     },
     "execution_count": 38,
     "metadata": {},
     "output_type": "execute_result"
    }
   ],
   "source": [
    "df.loc[df['filename'] == '21957.jpg']\n",
    "# Romanticism\n",
    "# Goya - The Third of May 1818"
   ]
  },
  {
   "cell_type": "code",
   "execution_count": 39,
   "metadata": {},
   "outputs": [
    {
     "data": {
      "text/html": [
       "<div>\n",
       "<style scoped>\n",
       "    .dataframe tbody tr th:only-of-type {\n",
       "        vertical-align: middle;\n",
       "    }\n",
       "\n",
       "    .dataframe tbody tr th {\n",
       "        vertical-align: top;\n",
       "    }\n",
       "\n",
       "    .dataframe thead th {\n",
       "        text-align: right;\n",
       "    }\n",
       "</style>\n",
       "<table border=\"1\" class=\"dataframe\">\n",
       "  <thead>\n",
       "    <tr style=\"text-align: right;\">\n",
       "      <th></th>\n",
       "      <th>Percentages</th>\n",
       "      <th>filename</th>\n",
       "      <th>true classes</th>\n",
       "      <th>predicted classes</th>\n",
       "    </tr>\n",
       "  </thead>\n",
       "  <tbody>\n",
       "    <tr>\n",
       "      <th>6</th>\n",
       "      <td>0.1496</td>\n",
       "      <td>56906.jpg</td>\n",
       "      <td>1</td>\n",
       "      <td>0</td>\n",
       "    </tr>\n",
       "  </tbody>\n",
       "</table>\n",
       "</div>"
      ],
      "text/plain": [
       "   Percentages   filename  true classes  predicted classes\n",
       "6       0.1496  56906.jpg             1                  0"
      ]
     },
     "execution_count": 39,
     "metadata": {},
     "output_type": "execute_result"
    }
   ],
   "source": [
    "df.loc[df['filename'] == '56906.jpg']\n",
    "# Romanticism\n",
    "# William Turner - The Fighting Temeraire..."
   ]
  },
  {
   "cell_type": "code",
   "execution_count": 40,
   "metadata": {},
   "outputs": [
    {
     "data": {
      "text/html": [
       "<div>\n",
       "<style scoped>\n",
       "    .dataframe tbody tr th:only-of-type {\n",
       "        vertical-align: middle;\n",
       "    }\n",
       "\n",
       "    .dataframe tbody tr th {\n",
       "        vertical-align: top;\n",
       "    }\n",
       "\n",
       "    .dataframe thead th {\n",
       "        text-align: right;\n",
       "    }\n",
       "</style>\n",
       "<table border=\"1\" class=\"dataframe\">\n",
       "  <thead>\n",
       "    <tr style=\"text-align: right;\">\n",
       "      <th></th>\n",
       "      <th>Percentages</th>\n",
       "      <th>filename</th>\n",
       "      <th>true classes</th>\n",
       "      <th>predicted classes</th>\n",
       "    </tr>\n",
       "  </thead>\n",
       "  <tbody>\n",
       "    <tr>\n",
       "      <th>149</th>\n",
       "      <td>0.356501</td>\n",
       "      <td>62893.jpg</td>\n",
       "      <td>1</td>\n",
       "      <td>0</td>\n",
       "    </tr>\n",
       "  </tbody>\n",
       "</table>\n",
       "</div>"
      ],
      "text/plain": [
       "     Percentages   filename  true classes  predicted classes\n",
       "149     0.356501  62893.jpg             1                  0"
      ]
     },
     "execution_count": 40,
     "metadata": {},
     "output_type": "execute_result"
    }
   ],
   "source": [
    "df.loc[df['filename'] == '62893.jpg']\n",
    "# Romanticism\n",
    "# William Turner - The Fighting Temeraire..."
   ]
  },
  {
   "cell_type": "code",
   "execution_count": 41,
   "metadata": {},
   "outputs": [
    {
     "data": {
      "text/html": [
       "<div>\n",
       "<style scoped>\n",
       "    .dataframe tbody tr th:only-of-type {\n",
       "        vertical-align: middle;\n",
       "    }\n",
       "\n",
       "    .dataframe tbody tr th {\n",
       "        vertical-align: top;\n",
       "    }\n",
       "\n",
       "    .dataframe thead th {\n",
       "        text-align: right;\n",
       "    }\n",
       "</style>\n",
       "<table border=\"1\" class=\"dataframe\">\n",
       "  <thead>\n",
       "    <tr style=\"text-align: right;\">\n",
       "      <th></th>\n",
       "      <th>Percentages</th>\n",
       "      <th>filename</th>\n",
       "      <th>true classes</th>\n",
       "      <th>predicted classes</th>\n",
       "    </tr>\n",
       "  </thead>\n",
       "  <tbody>\n",
       "    <tr>\n",
       "      <th>3911</th>\n",
       "      <td>0.984418</td>\n",
       "      <td>58844.jpg</td>\n",
       "      <td>1</td>\n",
       "      <td>1</td>\n",
       "    </tr>\n",
       "  </tbody>\n",
       "</table>\n",
       "</div>"
      ],
      "text/plain": [
       "      Percentages   filename  true classes  predicted classes\n",
       "3911     0.984418  58844.jpg             1                  1"
      ]
     },
     "execution_count": 41,
     "metadata": {},
     "output_type": "execute_result"
    }
   ],
   "source": [
    "df.loc[df['filename'] == '58844.jpg']\n",
    "# Romanticism\n",
    "# Delacroix - 28 July: The Liberty Leading the People"
   ]
  },
  {
   "cell_type": "code",
   "execution_count": 42,
   "metadata": {},
   "outputs": [
    {
     "data": {
      "text/html": [
       "<div>\n",
       "<style scoped>\n",
       "    .dataframe tbody tr th:only-of-type {\n",
       "        vertical-align: middle;\n",
       "    }\n",
       "\n",
       "    .dataframe tbody tr th {\n",
       "        vertical-align: top;\n",
       "    }\n",
       "\n",
       "    .dataframe thead th {\n",
       "        text-align: right;\n",
       "    }\n",
       "</style>\n",
       "<table border=\"1\" class=\"dataframe\">\n",
       "  <thead>\n",
       "    <tr style=\"text-align: right;\">\n",
       "      <th></th>\n",
       "      <th>Percentages</th>\n",
       "      <th>filename</th>\n",
       "      <th>true classes</th>\n",
       "      <th>predicted classes</th>\n",
       "    </tr>\n",
       "  </thead>\n",
       "  <tbody>\n",
       "    <tr>\n",
       "      <th>2162</th>\n",
       "      <td>0.374991</td>\n",
       "      <td>90455.jpg</td>\n",
       "      <td>1</td>\n",
       "      <td>0</td>\n",
       "    </tr>\n",
       "  </tbody>\n",
       "</table>\n",
       "</div>"
      ],
      "text/plain": [
       "      Percentages   filename  true classes  predicted classes\n",
       "2162     0.374991  90455.jpg             1                  0"
      ]
     },
     "execution_count": 42,
     "metadata": {},
     "output_type": "execute_result"
    }
   ],
   "source": [
    "df.loc[df['filename'] == '90455.jpg']\n",
    "# Romanticism\n",
    "# Delacroix - Death of Sardanapalus"
   ]
  },
  {
   "cell_type": "code",
   "execution_count": 43,
   "metadata": {},
   "outputs": [
    {
     "data": {
      "text/html": [
       "<div>\n",
       "<style scoped>\n",
       "    .dataframe tbody tr th:only-of-type {\n",
       "        vertical-align: middle;\n",
       "    }\n",
       "\n",
       "    .dataframe tbody tr th {\n",
       "        vertical-align: top;\n",
       "    }\n",
       "\n",
       "    .dataframe thead th {\n",
       "        text-align: right;\n",
       "    }\n",
       "</style>\n",
       "<table border=\"1\" class=\"dataframe\">\n",
       "  <thead>\n",
       "    <tr style=\"text-align: right;\">\n",
       "      <th></th>\n",
       "      <th>Percentages</th>\n",
       "      <th>filename</th>\n",
       "      <th>true classes</th>\n",
       "      <th>predicted classes</th>\n",
       "    </tr>\n",
       "  </thead>\n",
       "  <tbody>\n",
       "  </tbody>\n",
       "</table>\n",
       "</div>"
      ],
      "text/plain": [
       "Empty DataFrame\n",
       "Columns: [Percentages, filename, true classes, predicted classes]\n",
       "Index: []"
      ]
     },
     "execution_count": 43,
     "metadata": {},
     "output_type": "execute_result"
    }
   ],
   "source": [
    "df.loc[df['filename'] == '43181.jpg'] # not in validation set\n",
    "# Romanticism\n",
    "# Delacroix - Death of Sardanapalus - Sketch"
   ]
  },
  {
   "cell_type": "code",
   "execution_count": 20,
   "metadata": {},
   "outputs": [],
   "source": [
    "# tf.keras.utils.plot_model(\n",
    "#     loaded_model, to_file='model.png', show_layer_names=True,\n",
    "#     rankdir='TB')"
   ]
  },
  {
   "cell_type": "code",
   "execution_count": 21,
   "metadata": {},
   "outputs": [],
   "source": [
    "# from IPython.display import SVG\n",
    "# from keras.utils import model_to_dot\n",
    "\n",
    "# SVG(model_to_dot(loaded_model).create(prog='dot', format='svg'))"
   ]
  },
  {
   "cell_type": "code",
   "execution_count": 13,
   "metadata": {
    "scrolled": true
   },
   "outputs": [],
   "source": [
    "#loaded_model = keras.models.load_model('./model_keras.h5')"
   ]
  },
  {
   "cell_type": "code",
   "execution_count": null,
   "metadata": {},
   "outputs": [],
   "source": [
    "# from keras.utils.vis_utils import plot_model\n",
    "# import pydot\n",
    "# plot(model, show_shapes=True, to_file='model.png')\n",
    "# save as dot file and go to website to graph it, web graph vix, copy text and it will generate graph"
   ]
  }
 ],
 "metadata": {
  "kernelspec": {
   "display_name": "Python 3",
   "language": "python",
   "name": "python3"
  },
  "language_info": {
   "codemirror_mode": {
    "name": "ipython",
    "version": 3
   },
   "file_extension": ".py",
   "mimetype": "text/x-python",
   "name": "python",
   "nbconvert_exporter": "python",
   "pygments_lexer": "ipython3",
   "version": "3.7.4"
  }
 },
 "nbformat": 4,
 "nbformat_minor": 4
}
